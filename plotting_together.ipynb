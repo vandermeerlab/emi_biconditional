{
 "cells": [
  {
   "cell_type": "code",
   "execution_count": null,
   "metadata": {
    "ExecuteTime": {
     "end_time": "2017-05-01T08:55:53.881701",
     "start_time": "2017-05-01T08:55:53.857641"
    },
    "collapsed": true
   },
   "outputs": [],
   "source": [
    "import svgutils.transform as sg\n",
    "import sys\n",
    "import os"
   ]
  },
  {
   "cell_type": "code",
   "execution_count": null,
   "metadata": {
    "ExecuteTime": {
     "end_time": "2017-05-01T08:55:54.868480",
     "start_time": "2017-05-01T08:55:54.866479"
    },
    "collapsed": true
   },
   "outputs": [],
   "source": [
    "filepath = 'E:/code/emi_biconditional/plots/spring2017'"
   ]
  },
  {
   "cell_type": "code",
   "execution_count": null,
   "metadata": {
    "ExecuteTime": {
     "end_time": "2017-05-01T08:55:56.206646",
     "start_time": "2017-05-01T08:55:56.202643"
    },
    "collapsed": true
   },
   "outputs": [],
   "source": [
    "first_group = ['R141', 'R142', 'R143', 'R144']\n",
    "second_group = ['R145', 'R146', 'R147', 'R148']"
   ]
  },
  {
   "cell_type": "code",
   "execution_count": null,
   "metadata": {
    "ExecuteTime": {
     "end_time": "2017-05-01T08:56:12.772678",
     "start_time": "2017-05-01T08:56:12.737637"
    },
    "collapsed": false
   },
   "outputs": [],
   "source": [
    "# plotting rats 1-4\n",
    "\n",
    "fig = sg.SVGFigure(\"10cm\", \"10cm\")\n",
    "\n",
    "plot = os.path.join(filepath, first_group[0] + '_outcome_duration.svg')\n",
    "fig1 = sg.fromfile(plot)\n",
    "plot1 = fig1.getroot()\n",
    "\n",
    "plot = os.path.join(filepath, first_group[1] + '_outcome_duration.svg')\n",
    "fig2 = sg.fromfile(plot)\n",
    "plot2 = fig2.getroot()\n",
    "\n",
    "plot = os.path.join(filepath, first_group[2] + '_outcome_duration.svg')\n",
    "fig3 = sg.fromfile(plot)\n",
    "plot3 = fig3.getroot()\n",
    "\n",
    "plot = os.path.join(filepath, first_group[3] + '_outcome_duration.svg')\n",
    "fig4 = sg.fromfile(plot)\n",
    "plot4 = fig4.getroot()\n",
    "\n",
    "plot1.moveto(0, 0, scale=0.5)\n",
    "plot2.moveto(180, 0, scale=0.5)\n",
    "plot3.moveto(0, 150, scale=0.5)\n",
    "plot4.moveto(180, 150, scale=0.5)\n",
    "\n",
    "fig.append([plot1, plot2, plot3, plot4])\n",
    "fig.save(os.path.join(filepath, \"session17_rats1-4.svg\"))"
   ]
  },
  {
   "cell_type": "code",
   "execution_count": null,
   "metadata": {
    "ExecuteTime": {
     "end_time": "2017-05-01T08:56:26.199758",
     "start_time": "2017-05-01T08:56:26.160705"
    },
    "collapsed": true
   },
   "outputs": [],
   "source": [
    "# plotting rats 5-8\n",
    "\n",
    "fig = sg.SVGFigure(\"10cm\", \"10cm\")\n",
    "\n",
    "plot = os.path.join(filepath, second_group[0] + '_outcome_duration.svg')\n",
    "fig1 = sg.fromfile(plot)\n",
    "plot1 = fig1.getroot()\n",
    "\n",
    "plot = os.path.join(filepath, second_group[1] + '_outcome_duration.svg')\n",
    "fig2 = sg.fromfile(plot)\n",
    "plot2 = fig2.getroot()\n",
    "\n",
    "plot = os.path.join(filepath, second_group[2] + '_outcome_duration.svg')\n",
    "fig3 = sg.fromfile(plot)\n",
    "plot3 = fig3.getroot()\n",
    "\n",
    "plot = os.path.join(filepath, second_group[3] + '_outcome_duration.svg')\n",
    "fig4 = sg.fromfile(plot)\n",
    "plot4 = fig4.getroot()\n",
    "\n",
    "plot1.moveto(0, 0, scale=0.5)\n",
    "plot2.moveto(180, 0, scale=0.5)\n",
    "plot3.moveto(0, 150, scale=0.5)\n",
    "plot4.moveto(180, 150, scale=0.5)\n",
    "\n",
    "fig.append([plot1, plot2, plot3, plot4])\n",
    "fig.save(os.path.join(filepath, \"session17_rats5-8.svg\"))"
   ]
  },
  {
   "cell_type": "code",
   "execution_count": null,
   "metadata": {
    "collapsed": true
   },
   "outputs": [],
   "source": []
  }
 ],
 "metadata": {
  "kernelspec": {
   "display_name": "Python 3",
   "language": "python",
   "name": "python3"
  },
  "language_info": {
   "codemirror_mode": {
    "name": "ipython",
    "version": 3
   },
   "file_extension": ".py",
   "mimetype": "text/x-python",
   "name": "python",
   "nbconvert_exporter": "python",
   "pygments_lexer": "ipython3",
   "version": "3.5.2"
  },
  "toc": {
   "colors": {
    "hover_highlight": "#DAA520",
    "running_highlight": "#FF0000",
    "selected_highlight": "#FFD700"
   },
   "moveMenuLeft": true,
   "nav_menu": {
    "height": "12px",
    "width": "252px"
   },
   "navigate_menu": true,
   "number_sections": true,
   "sideBar": true,
   "threshold": 4,
   "toc_cell": false,
   "toc_section_display": "block",
   "toc_window_display": false
  }
 },
 "nbformat": 4,
 "nbformat_minor": 0
}
