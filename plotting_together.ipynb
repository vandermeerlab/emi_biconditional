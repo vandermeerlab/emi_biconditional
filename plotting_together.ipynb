{
 "cells": [
  {
   "cell_type": "code",
   "execution_count": null,
   "metadata": {
    "ExecuteTime": {
     "end_time": "2017-05-08T14:05:00.859257",
     "start_time": "2017-05-08T14:05:00.805201"
    },
    "collapsed": true
   },
   "outputs": [],
   "source": [
    "import svgutils.transform as sg\n",
    "import sys\n",
    "import os"
   ]
  },
  {
   "cell_type": "code",
   "execution_count": null,
   "metadata": {
    "ExecuteTime": {
     "end_time": "2017-05-08T14:05:01.143441",
     "start_time": "2017-05-08T14:05:01.140456"
    },
    "collapsed": true
   },
   "outputs": [],
   "source": [
    "filepath = 'E:/code/emi_biconditional/plots/spring2017'"
   ]
  },
  {
   "cell_type": "code",
   "execution_count": null,
   "metadata": {
    "ExecuteTime": {
     "end_time": "2017-05-08T14:05:01.471674",
     "start_time": "2017-05-08T14:05:01.468672"
    },
    "collapsed": true
   },
   "outputs": [],
   "source": [
    "rats = ['R141', 'R142', 'R143', 'R144', 'R145', 'R146', 'R147', 'R148']"
   ]
  },
  {
   "cell_type": "code",
   "execution_count": null,
   "metadata": {
    "ExecuteTime": {
     "end_time": "2017-05-08T14:06:33.444629",
     "start_time": "2017-05-08T14:06:33.381584"
    },
    "collapsed": false
   },
   "outputs": [],
   "source": [
    "# plotting rats 1-4\n",
    "\n",
    "fig = sg.SVGFigure(\"10cm\", \"10cm\")\n",
    "\n",
    "plot = os.path.join(filepath, rats[0] + '_outcome_duration.svg')\n",
    "fig1 = sg.fromfile(plot)\n",
    "plot1 = fig1.getroot()\n",
    "\n",
    "plot = os.path.join(filepath, rats[1] + '_outcome_duration.svg')\n",
    "fig2 = sg.fromfile(plot)\n",
    "plot2 = fig2.getroot()\n",
    "\n",
    "plot = os.path.join(filepath, rats[2] + '_outcome_duration.svg')\n",
    "fig3 = sg.fromfile(plot)\n",
    "plot3 = fig3.getroot()\n",
    "\n",
    "plot = os.path.join(filepath, rats[3] + '_outcome_duration.svg')\n",
    "fig4 = sg.fromfile(plot)\n",
    "plot4 = fig4.getroot()\n",
    "\n",
    "plot = os.path.join(filepath, rats[4] + '_outcome_duration.svg')\n",
    "fig5 = sg.fromfile(plot)\n",
    "plot5 = fig5.getroot()\n",
    "\n",
    "plot = os.path.join(filepath, rats[5] + '_outcome_duration.svg')\n",
    "fig6 = sg.fromfile(plot)\n",
    "plot6 = fig6.getroot()\n",
    "\n",
    "plot = os.path.join(filepath, rats[6] + '_outcome_duration.svg')\n",
    "fig7 = sg.fromfile(plot)\n",
    "plot7 = fig7.getroot()\n",
    "\n",
    "plot = os.path.join(filepath, rats[7] + '_outcome_duration.svg')\n",
    "fig8 = sg.fromfile(plot)\n",
    "plot8 = fig8.getroot()\n",
    "\n",
    "plot1.moveto(0, 0, scale=0.5)\n",
    "plot2.moveto(180, 0, scale=0.5)\n",
    "plot3.moveto(0, 150, scale=0.5)\n",
    "plot4.moveto(180, 150, scale=0.5)\n",
    "\n",
    "plot5.moveto(0, 300, scale=0.5)\n",
    "plot6.moveto(180, 300, scale=0.5)\n",
    "plot7.moveto(0, 450, scale=0.5)\n",
    "plot8.moveto(180, 450, scale=0.5)\n",
    "\n",
    "fig.append([plot1, plot2, plot3, plot4, plot5, plot6, plot7, plot8])\n",
    "fig.save(os.path.join(filepath, \"session24_all-rats.svg\"))"
   ]
  },
  {
   "cell_type": "code",
   "execution_count": null,
   "metadata": {
    "collapsed": true
   },
   "outputs": [],
   "source": []
  }
 ],
 "metadata": {
  "kernelspec": {
   "display_name": "Python 3",
   "language": "python",
   "name": "python3"
  },
  "language_info": {
   "codemirror_mode": {
    "name": "ipython",
    "version": 3
   },
   "file_extension": ".py",
   "mimetype": "text/x-python",
   "name": "python",
   "nbconvert_exporter": "python",
   "pygments_lexer": "ipython3",
   "version": "3.5.2"
  },
  "toc": {
   "colors": {
    "hover_highlight": "#DAA520",
    "running_highlight": "#FF0000",
    "selected_highlight": "#FFD700"
   },
   "moveMenuLeft": true,
   "nav_menu": {
    "height": "12px",
    "width": "252px"
   },
   "navigate_menu": true,
   "number_sections": true,
   "sideBar": true,
   "threshold": 4,
   "toc_cell": false,
   "toc_section_display": "block",
   "toc_window_display": false
  }
 },
 "nbformat": 4,
 "nbformat_minor": 0
}
