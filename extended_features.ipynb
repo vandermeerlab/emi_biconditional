{
 "cells": [
  {
   "cell_type": "code",
   "execution_count": null,
   "metadata": {
    "ExecuteTime": {
     "end_time": "2017-09-15T16:22:03.828556",
     "start_time": "2017-09-15T16:21:58.632619"
    },
    "collapsed": true
   },
   "outputs": [],
   "source": [
    "import os\n",
    "import numpy as np\n",
    "\n",
    "import nept\n",
    "from load_data import assign_occset_label\n",
    "from plotting import plot_behavior, plot_duration"
   ]
  },
  {
   "cell_type": "code",
   "execution_count": null,
   "metadata": {
    "ExecuteTime": {
     "end_time": "2017-09-15T16:22:03.842961",
     "start_time": "2017-09-15T16:22:03.828556"
    },
    "collapsed": true
   },
   "outputs": [],
   "source": [
    "thisdir = 'E:\\\\code\\\\emi_biconditional'\n",
    "data_filepath = os.path.join(thisdir, 'cache', 'data', 'spring2017')\n",
    "output_filepath = os.path.join(thisdir, 'plots', 'fall2017')"
   ]
  },
  {
   "cell_type": "code",
   "execution_count": null,
   "metadata": {
    "ExecuteTime": {
     "end_time": "2017-09-15T16:22:03.856971",
     "start_time": "2017-09-15T16:22:03.844963"
    },
    "collapsed": false
   },
   "outputs": [],
   "source": [
    "magazine_session = '!2017-04-14'"
   ]
  },
  {
   "cell_type": "code",
   "execution_count": null,
   "metadata": {
    "ExecuteTime": {
     "end_time": "2017-09-15T16:22:03.869981",
     "start_time": "2017-09-15T16:22:03.858973"
    },
    "collapsed": true
   },
   "outputs": [],
   "source": [
    "sessions = ['!2017-05-30', '!2017-05-31', '!2017-06-01']\n",
    "\n",
    "rats = ['R141', 'R142', 'R143', 'R144', 'R145', 'R146', 'R147', 'R148']\n",
    "groups = [1, 2, 2, 1, 2, 1, 1, 2]\n",
    "males = ['R141', 'R143', 'R145', 'R147']\n",
    "females = ['R142', 'R144', 'R146', 'R148']\n",
    "group1 = ['R141', 'R144', 'R146', 'R147']\n",
    "group2 = ['R142', 'R143', 'R145', 'R148']"
   ]
  },
  {
   "cell_type": "code",
   "execution_count": null,
   "metadata": {
    "ExecuteTime": {
     "end_time": "2017-09-15T16:22:12.644820",
     "start_time": "2017-09-15T16:22:03.871982"
    },
    "collapsed": true
   },
   "outputs": [],
   "source": [
    "cue_duration = 10.\n",
    "\n",
    "data = dict()\n",
    "for rat in rats:\n",
    "    data[rat] = nept.Rat(rat, group1, group2)\n",
    "\n",
    "for session in sessions:\n",
    "    rats_data = nept.load_medpc(os.path.join(data_filepath, session), assign_occset_label)\n",
    "\n",
    "    for rat in rats:\n",
    "        iti_starts = []\n",
    "        iti_stops = []\n",
    "        for trial in ['trial1', 'trial2']:\n",
    "            iti_starts.extend(rats_data[rat][trial].starts - cue_duration)\n",
    "            iti_stops.extend(rats_data[rat][trial].starts)\n",
    "\n",
    "        rats_data[rat]['pre_cs'] = nept.Epoch(np.vstack([iti_starts, iti_stops]))\n",
    "\n",
    "        post_rewarded_starts = []\n",
    "        post_rewarded_stops = []\n",
    "        for trial in ['trial2']:\n",
    "            post_rewarded_starts.extend(rats_data[rat][trial].stops)\n",
    "            post_rewarded_stops.extend(rats_data[rat][trial].stops + cue_duration)\n",
    "        rats_data[rat]['post_rewarded'] = nept.Epoch(np.vstack([post_rewarded_starts, post_rewarded_stops]))\n",
    "\n",
    "        post_unrewarded_starts = []\n",
    "        post_unrewarded_stops = []\n",
    "        for trial in ['trial1']:\n",
    "            post_unrewarded_starts.extend(rats_data[rat][trial].stops)\n",
    "            post_unrewarded_stops.extend(rats_data[rat][trial].stops + cue_duration)\n",
    "        rats_data[rat]['post_unrewarded'] = nept.Epoch(np.vstack([post_unrewarded_starts, post_unrewarded_stops]))\n",
    "\n",
    "    for rat, group in zip(rats, groups):\n",
    "        data[rat].add_long_feature_session(mags=rats_data[rat]['mags'],\n",
    "                                           pellets=rats_data[rat]['pellets'],\n",
    "                                           lights1=rats_data[rat]['lights1'],\n",
    "                                           lights2=rats_data[rat]['lights2'],\n",
    "                                           sounds1=rats_data[rat]['sounds1'],\n",
    "                                           trial1=rats_data[rat]['trial1'],\n",
    "                                           trial2=rats_data[rat]['trial2'],\n",
    "                                           group=group)"
   ]
  },
  {
   "cell_type": "code",
   "execution_count": null,
   "metadata": {
    "ExecuteTime": {
     "end_time": "2017-09-15T16:22:12.654414",
     "start_time": "2017-09-15T16:22:12.644820"
    },
    "collapsed": false
   },
   "outputs": [],
   "source": [
    "n_sessions = len(data[rats[0]].sessions)\n",
    "print('n_sessions:', n_sessions)"
   ]
  },
  {
   "cell_type": "code",
   "execution_count": null,
   "metadata": {
    "ExecuteTime": {
     "end_time": "2017-09-15T16:22:12.721461",
     "start_time": "2017-09-15T16:22:12.656415"
    },
    "collapsed": false
   },
   "outputs": [],
   "source": [
    "df = nept.combine_rats(data, rats, n_sessions)\n",
    "df[:20]"
   ]
  },
  {
   "cell_type": "code",
   "execution_count": null,
   "metadata": {
    "ExecuteTime": {
     "end_time": "2017-09-15T16:22:12.784506",
     "start_time": "2017-09-15T16:22:12.725464"
    },
    "collapsed": true
   },
   "outputs": [],
   "source": [
    "import matplotlib.pyplot as plt\n",
    "import seaborn as sns\n",
    "from matplotlib.ticker import FuncFormatter\n",
    "\n",
    "sns.set_style(\"white\")\n",
    "sns.set_style(\"ticks\")\n",
    "\n",
    "def plot_behavior(df, rats, filepath=None, only_sound=False, by_outcome=False, change_sessions=None, xlim=None):\n",
    "    if change_sessions is None:\n",
    "        change_sessions = []\n",
    "\n",
    "    rat_idx = np.zeros(len(df), dtype=bool)\n",
    "    for rat in rats:\n",
    "        rat_idx = rat_idx | (df['rat'] == rat)\n",
    "    rats_df = df[rat_idx]\n",
    "\n",
    "    if only_sound:\n",
    "        colours = [\"#4393c3\", \"#b2182b\", \"#d6604d\", \"#2166ac\", 'k', '#fe9929', '#f768a1']\n",
    "    else:\n",
    "        colours = [\"#9970ab\", \"#4393c3\", \"#762a83\", \"#b2182b\", \"#5aae61\",\n",
    "                   \"#d6604d\", \"#1b7837\", \"#2166ac\", 'k', '#fe9929', '#f768a1']\n",
    "\n",
    "    g = sns.FacetGrid(data=rats_df, col=\"measure\", sharey=False, size=3, aspect=1.)\n",
    "    plt.gca().xaxis.set_major_formatter(FuncFormatter(lambda x, _: int(x)))\n",
    "    if by_outcome:\n",
    "        colours = [\"#9970ab\", \"#d6604d\", \"#1b7837\", \"#2166ac\", 'k', '#fe9929', '#f768a1']\n",
    "        g.map_dataframe(sns.tsplot, time=\"session\", unit=\"trial\", condition=\"rewarded\", value=\"value\",\n",
    "                        err_style=\"ci_band\", ci=68, color=colours)\n",
    "        legend_dist = 1.\n",
    "    else:\n",
    "        g.map_dataframe(sns.tsplot, time=\"session\", unit=\"trial\", condition=\"condition\", value=\"value\",\n",
    "                        err_style=\"ci_band\", ci=68, color=colours)\n",
    "        legend_dist = 1.\n",
    "    g.set_axis_labels(\"Session\", \"Value\")\n",
    "    for ax, label in zip(g.axes[0], [\"Duration in food cup (s)\",\n",
    "                                     \"# of entries\",\n",
    "                                     \"Latency to first entry (s)\",\n",
    "                                     \"Percent responses\"]):\n",
    "        ax.set_title(\"\")\n",
    "        ax.set_ylabel(label)\n",
    "\n",
    "        if len(change_sessions) == 1:\n",
    "            ax.axvspan(change_sessions[0], rats_df['session'].max(), color='#cccccc', alpha=0.3)\n",
    "        elif len(change_sessions) == 2:\n",
    "            ax.axvspan(change_sessions[0], change_sessions[1]-1, color='#cccccc', alpha=0.3)\n",
    "        elif len(change_sessions) == 3:\n",
    "            ax.axvspan(change_sessions[0], change_sessions[1]-1, color='#cccccc', alpha=0.3)\n",
    "            ax.axvspan(change_sessions[2], rats_df['session'].max(), color='#cccccc', alpha=0.3)\n",
    "\n",
    "        if xlim is not None:\n",
    "            ax.set_xlim(xlim)\n",
    "\n",
    "    plt.tight_layout()\n",
    "    plt.legend(bbox_to_anchor=(legend_dist, 1.))\n",
    "    if filepath is not None:\n",
    "        plt.savefig(filepath, bbox_inches='tight')\n",
    "        plt.close()\n",
    "    else:\n",
    "        plt.show()"
   ]
  },
  {
   "cell_type": "code",
   "execution_count": null,
   "metadata": {
    "ExecuteTime": {
     "end_time": "2017-09-15T16:22:15.297145",
     "start_time": "2017-09-15T16:22:12.786507"
    },
    "collapsed": false
   },
   "outputs": [],
   "source": [
    "for rat in ['R142']:\n",
    "#     filename = rat + '_outcome_behavior.png'\n",
    "#     filepath = os.path.join(output_filepath, filename)\n",
    "    plot_behavior(df, [rat], filepath=None, by_outcome=True)"
   ]
  },
  {
   "cell_type": "code",
   "execution_count": null,
   "metadata": {
    "collapsed": true
   },
   "outputs": [],
   "source": []
  },
  {
   "cell_type": "code",
   "execution_count": null,
   "metadata": {
    "ExecuteTime": {
     "end_time": "2017-09-15T16:22:15.309513",
     "start_time": "2017-09-15T16:22:15.297145"
    },
    "collapsed": false
   },
   "outputs": [],
   "source": [
    "trial2 = rats_data['R142']['trial2']"
   ]
  },
  {
   "cell_type": "code",
   "execution_count": null,
   "metadata": {
    "ExecuteTime": {
     "end_time": "2017-09-15T16:22:15.321522",
     "start_time": "2017-09-15T16:22:15.311516"
    },
    "collapsed": false
   },
   "outputs": [],
   "source": [
    "lights1 = rats_data['R142']['lights1']"
   ]
  },
  {
   "cell_type": "code",
   "execution_count": null,
   "metadata": {
    "ExecuteTime": {
     "end_time": "2017-09-15T16:22:15.332531",
     "start_time": "2017-09-15T16:22:15.323523"
    },
    "collapsed": true
   },
   "outputs": [],
   "source": [
    "lights2 = rats_data['R142']['lights2']"
   ]
  },
  {
   "cell_type": "code",
   "execution_count": null,
   "metadata": {
    "ExecuteTime": {
     "end_time": "2017-09-15T16:22:15.344538",
     "start_time": "2017-09-15T16:22:15.334531"
    },
    "collapsed": true
   },
   "outputs": [],
   "source": [
    "sounds1 = rats_data['R142']['sounds1']"
   ]
  },
  {
   "cell_type": "code",
   "execution_count": null,
   "metadata": {
    "ExecuteTime": {
     "end_time": "2017-09-15T16:22:15.357547",
     "start_time": "2017-09-15T16:22:15.347541"
    },
    "collapsed": true
   },
   "outputs": [],
   "source": [
    "mags = rats_data['R142']['mags']"
   ]
  },
  {
   "cell_type": "code",
   "execution_count": null,
   "metadata": {
    "ExecuteTime": {
     "end_time": "2017-09-15T16:22:15.579723",
     "start_time": "2017-09-15T16:22:15.359549"
    },
    "collapsed": false
   },
   "outputs": [],
   "source": [
    "trial1light2 = mags.intersect(rats_data['R142']['trial1'].intersect(rats_data['R142']['lights2']))\n",
    "trial1sound1 = mags.intersect(rats_data['R142']['trial1'].intersect(rats_data['R142']['sounds1']))\n",
    "trial1light1 = mags.intersect(rats_data['R142']['trial1'].intersect(rats_data['R142']['lights1']))\n",
    "trial1sound1 = mags.intersect(rats_data['R142']['trial1'].intersect(rats_data['R142']['sounds1']))\n",
    "trial2light1 = mags.intersect(rats_data['R142']['trial2'].intersect(rats_data['R142']['lights1']))\n",
    "trial2sound1 = mags.intersect(rats_data['R142']['trial2'].intersect(rats_data['R142']['sounds1']))\n",
    "trial2light2 = mags.intersect(rats_data['R142']['trial2'].intersect(rats_data['R142']['lights2']))\n",
    "trial2sound1 = mags.intersect(rats_data['R142']['trial2'].intersect(rats_data['R142']['sounds1']))"
   ]
  },
  {
   "cell_type": "code",
   "execution_count": null,
   "metadata": {
    "ExecuteTime": {
     "end_time": "2017-09-15T16:22:16.076692",
     "start_time": "2017-09-15T20:21:58.685Z"
    },
    "collapsed": false
   },
   "outputs": [],
   "source": [
    "trialsound.durations"
   ]
  },
  {
   "cell_type": "code",
   "execution_count": null,
   "metadata": {
    "ExecuteTime": {
     "end_time": "2017-09-15T16:22:16.077694",
     "start_time": "2017-09-15T20:21:58.688Z"
    },
    "collapsed": false
   },
   "outputs": [],
   "source": [
    "trialsound.starts"
   ]
  },
  {
   "cell_type": "code",
   "execution_count": null,
   "metadata": {
    "ExecuteTime": {
     "end_time": "2017-09-15T16:22:16.077694",
     "start_time": "2017-09-15T20:21:58.691Z"
    },
    "collapsed": false
   },
   "outputs": [],
   "source": [
    "yy.durations"
   ]
  },
  {
   "cell_type": "code",
   "execution_count": null,
   "metadata": {
    "ExecuteTime": {
     "end_time": "2017-09-15T16:22:16.077694",
     "start_time": "2017-09-15T20:21:58.695Z"
    },
    "collapsed": false
   },
   "outputs": [],
   "source": [
    "plt.plot(trial2.starts, np.ones(len(trial2.starts)), 'o', ms=10, color='b')\n",
    "plt.plot(trial2.stops, np.ones(len(trial2.stops)), 'o', ms=10, color='b')\n",
    "\n",
    "plt.plot(triallight.starts, np.ones(len(triallight.starts)), 'o', ms=6, color='m')\n",
    "plt.plot(triallight.stops, np.ones(len(triallight.stops)), 'o', ms=10, color='m')\n",
    "\n",
    "plt.plot(trialsound.starts, np.ones(len(trialsound.starts)), 'o', ms=5, color='c')\n",
    "plt.plot(trialsound.stops, np.ones(len(trialsound.stops)), 'o', ms=5, color='c')\n",
    "\n",
    "# plt.plot(mags.starts, np.zeros(len(mags.starts)), '.')\n",
    "\n",
    "plt.xlim(2000, 2200)\n",
    "plt.show()"
   ]
  },
  {
   "cell_type": "code",
   "execution_count": null,
   "metadata": {
    "ExecuteTime": {
     "end_time": "2017-09-15T16:22:16.078710",
     "start_time": "2017-09-15T20:21:58.698Z"
    },
    "collapsed": false
   },
   "outputs": [],
   "source": [
    "for trial in yy:\n",
    "    print(trial.durations)"
   ]
  },
  {
   "cell_type": "code",
   "execution_count": null,
   "metadata": {
    "collapsed": true
   },
   "outputs": [],
   "source": []
  }
 ],
 "metadata": {
  "kernelspec": {
   "display_name": "Python 3",
   "language": "python",
   "name": "python3"
  },
  "language_info": {
   "codemirror_mode": {
    "name": "ipython",
    "version": 3
   },
   "file_extension": ".py",
   "mimetype": "text/x-python",
   "name": "python",
   "nbconvert_exporter": "python",
   "pygments_lexer": "ipython3",
   "version": "3.4.5"
  },
  "toc": {
   "colors": {
    "hover_highlight": "#DAA520",
    "running_highlight": "#FF0000",
    "selected_highlight": "#FFD700"
   },
   "moveMenuLeft": true,
   "nav_menu": {
    "height": "12px",
    "width": "252px"
   },
   "navigate_menu": true,
   "number_sections": true,
   "sideBar": true,
   "threshold": 4,
   "toc_cell": false,
   "toc_section_display": "block",
   "toc_window_display": false
  }
 },
 "nbformat": 4,
 "nbformat_minor": 2
}
