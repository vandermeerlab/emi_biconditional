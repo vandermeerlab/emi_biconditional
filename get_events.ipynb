{
 "cells": [
  {
   "cell_type": "code",
   "execution_count": null,
   "metadata": {
    "collapsed": false
   },
   "outputs": [],
   "source": [
    "import os\n",
    "\n",
    "from load_data import assign_label, load_biconditional_events_general, vdm_assign_label\n",
    "from core import Rat, combine_rats\n",
    "import vdmlab as vdm"
   ]
  },
  {
   "cell_type": "code",
   "execution_count": null,
   "metadata": {
    "collapsed": true
   },
   "outputs": [],
   "source": [
    "data_filepath = 'C:/Users/Emily/code/emi_biconditional/cache/data/winter2017'"
   ]
  },
  {
   "cell_type": "code",
   "execution_count": null,
   "metadata": {
    "collapsed": false
   },
   "outputs": [],
   "source": [
    "# Finds newest session id\n",
    "this_id = 0\n",
    "for file in sorted(os.listdir(data_filepath)):\n",
    "    if file[0] == '!':\n",
    "        session = file[1:5] + file[6:8] + file[9:]\n",
    "        if int(session) > this_id:\n",
    "            this_id = int(session)\n",
    "            session_id = file[1:]\n",
    "\n",
    "# If interested in a particular session, uncomment below.\n",
    "# Otherwise this evaluates only the newest session.\n",
    "# session_id = '2017-01-19'\n",
    "print('checking session:', session_id)"
   ]
  },
  {
   "cell_type": "code",
   "execution_count": null,
   "metadata": {
    "collapsed": false
   },
   "outputs": [],
   "source": [
    "rat = 'R115'\n",
    "group2 = [rat]\n",
    "\n",
    "data = dict()\n",
    "data[rat] = Rat(rat, group2)\n",
    "\n",
    "rec_filename = os.path.join(data_filepath, 'R115-' + session_id + '-Events.nev')\n",
    "events = load_biconditional_events_general(rec_filename, photobeam='zero')\n",
    "# events = load_biconditional_events_general(rec_filename, photobeam='c')\n",
    "\n",
    "rats_data = vdm_assign_label(events)"
   ]
  },
  {
   "cell_type": "code",
   "execution_count": null,
   "metadata": {
    "collapsed": false
   },
   "outputs": [],
   "source": [
    "rats_data.keys()"
   ]
  },
  {
   "cell_type": "code",
   "execution_count": null,
   "metadata": {
    "collapsed": false
   },
   "outputs": [],
   "source": [
    "rats_data['pellets'].n_epochs"
   ]
  },
  {
   "cell_type": "code",
   "execution_count": null,
   "metadata": {
    "collapsed": false
   },
   "outputs": [],
   "source": [
    "rats_data['trial1'].n_epochs, rats_data['trial2'].n_epochs, rats_data['trial3'].n_epochs, rats_data['trial4'].n_epochs"
   ]
  },
  {
   "cell_type": "code",
   "execution_count": null,
   "metadata": {
    "collapsed": false
   },
   "outputs": [],
   "source": [
    "rats_data['lights1'].n_epochs, rats_data['lights2'].n_epochs, rats_data['sounds1'].n_epochs, rats_data['sounds2'].n_epochs"
   ]
  },
  {
   "cell_type": "code",
   "execution_count": null,
   "metadata": {
    "collapsed": false
   },
   "outputs": [],
   "source": [
    "rats_data['mags'].n_epochs"
   ]
  },
  {
   "cell_type": "code",
   "execution_count": null,
   "metadata": {
    "collapsed": true
   },
   "outputs": [],
   "source": []
  },
  {
   "cell_type": "code",
   "execution_count": null,
   "metadata": {
    "collapsed": false
   },
   "outputs": [],
   "source": [
    "rats_data['pellets'].starts"
   ]
  },
  {
   "cell_type": "code",
   "execution_count": null,
   "metadata": {
    "collapsed": false
   },
   "outputs": [],
   "source": [
    "rats_data['pellets'].stops"
   ]
  },
  {
   "cell_type": "code",
   "execution_count": null,
   "metadata": {
    "collapsed": true
   },
   "outputs": [],
   "source": []
  }
 ],
 "metadata": {
  "anaconda-cloud": {},
  "kernelspec": {
   "display_name": "Python [conda env:py3]",
   "language": "python",
   "name": "conda-env-py3-py"
  },
  "language_info": {
   "codemirror_mode": {
    "name": "ipython",
    "version": 3
   },
   "file_extension": ".py",
   "mimetype": "text/x-python",
   "name": "python",
   "nbconvert_exporter": "python",
   "pygments_lexer": "ipython3",
   "version": "3.5.2"
  }
 },
 "nbformat": 4,
 "nbformat_minor": 1
}
