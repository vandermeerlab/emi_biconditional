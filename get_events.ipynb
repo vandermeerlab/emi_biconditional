{
 "cells": [
  {
   "cell_type": "code",
   "execution_count": null,
   "metadata": {
    "collapsed": false
   },
   "outputs": [],
   "source": [
    "%matplotlib inline\n",
    "import matplotlib.pyplot as plt\n",
    "import os\n",
    "import numpy as np\n",
    "\n",
    "from load_data import assign_label, load_biconditional_events_general, vdm_assign_label\n",
    "from core import Rat, combine_rats\n",
    "import vdmlab as vdm"
   ]
  },
  {
   "cell_type": "code",
   "execution_count": null,
   "metadata": {
    "collapsed": true
   },
   "outputs": [],
   "source": [
    "# data_filepath = 'E:/code/emi_biconditional/cache/data/winter2017'\n",
    "data_filepath = 'C:/Users/Emily/code/emi_biconditional/cache/data/winter2017'"
   ]
  },
  {
   "cell_type": "code",
   "execution_count": null,
   "metadata": {
    "collapsed": false
   },
   "outputs": [],
   "source": [
    "# Finds newest session id\n",
    "this_id = 0\n",
    "for file in sorted(os.listdir(data_filepath)):\n",
    "    if file[0] == '!':\n",
    "        session = file[1:5] + file[6:8] + file[9:]\n",
    "        if int(session) > this_id:\n",
    "            this_id = int(session)\n",
    "            session_id = file[1:]"
   ]
  },
  {
   "cell_type": "code",
   "execution_count": null,
   "metadata": {
    "collapsed": false
   },
   "outputs": [],
   "source": [
    "# If interested in a particular session, uncomment below.\n",
    "# Otherwise this evaluates only the newest session.\n",
    "# session_id = '2017-02-08'\n",
    "print('checking session:', session_id)"
   ]
  },
  {
   "cell_type": "code",
   "execution_count": null,
   "metadata": {
    "collapsed": false
   },
   "outputs": [],
   "source": [
    "rat = 'R115'\n",
    "group2 = [rat]\n",
    "\n",
    "data = dict()\n",
    "data[rat] = Rat(rat, group2)\n",
    "\n",
    "rec_filename = os.path.join(data_filepath, 'R115-' + session_id + '-Events.nev')\n",
    "events = load_biconditional_events_general(rec_filename, photobeam='zero')\n",
    "# events = load_biconditional_events_general(rec_filename, photobeam='c')\n",
    "\n",
    "rats_data = vdm_assign_label(events)"
   ]
  },
  {
   "cell_type": "code",
   "execution_count": null,
   "metadata": {
    "collapsed": false
   },
   "outputs": [],
   "source": [
    "events[\"sound1_off\"][6], events[\"sound1_on\"], events[\"sound1_off\"]"
   ]
  },
  {
   "cell_type": "code",
   "execution_count": null,
   "metadata": {
    "collapsed": false
   },
   "outputs": [],
   "source": [
    "np.insert(events['sound1_on'], 6, events['sound1_off'][6])"
   ]
  },
  {
   "cell_type": "code",
   "execution_count": null,
   "metadata": {
    "collapsed": false
   },
   "outputs": [],
   "source": [
    "events['sound1_on'] = np.insert(events['sound1_on'], 6, events['sound1_off'][6]-10)"
   ]
  },
  {
   "cell_type": "code",
   "execution_count": null,
   "metadata": {
    "collapsed": false
   },
   "outputs": [],
   "source": [
    "events['sound1_off'] - start"
   ]
  },
  {
   "cell_type": "code",
   "execution_count": null,
   "metadata": {
    "collapsed": true
   },
   "outputs": [],
   "source": []
  },
  {
   "cell_type": "code",
   "execution_count": null,
   "metadata": {
    "collapsed": true
   },
   "outputs": [],
   "source": [
    "rats = ['R120', 'R121', 'R118', 'R119', 'R116', 'R117', 'R114']\n",
    "\n",
    "groups = [1, 2, 1, 2, 1, 2, 1]\n",
    "\n",
    "group1 = ['R120', 'R118', 'R116', 'R114']\n",
    "group2 = ['R121', 'R119', 'R117']"
   ]
  },
  {
   "cell_type": "code",
   "execution_count": null,
   "metadata": {
    "collapsed": false
   },
   "outputs": [],
   "source": [
    "this_rat = 'R117'\n",
    "\n",
    "filename = os.path.join(data_filepath, '!' + session_id)\n",
    "\n",
    "data = dict()\n",
    "for rat in rats:\n",
    "    data[rat] = Rat(rat, group1, group2)\n",
    "\n",
    "rats_data = vdm.load_medpc(filename, assign_label)\n",
    "\n",
    "mag_duration = rats_data[this_rat]['mags'].durations"
   ]
  },
  {
   "cell_type": "code",
   "execution_count": null,
   "metadata": {
    "collapsed": false
   },
   "outputs": [],
   "source": [
    "rats_data[this_rat]['mags'].n_epochs"
   ]
  },
  {
   "cell_type": "code",
   "execution_count": null,
   "metadata": {
    "collapsed": true
   },
   "outputs": [],
   "source": []
  }
 ],
 "metadata": {
  "anaconda-cloud": {},
  "kernelspec": {
   "display_name": "Python [default]",
   "language": "python",
   "name": "python3"
  },
  "language_info": {
   "codemirror_mode": {
    "name": "ipython",
    "version": 3
   },
   "file_extension": ".py",
   "mimetype": "text/x-python",
   "name": "python",
   "nbconvert_exporter": "python",
   "pygments_lexer": "ipython3",
   "version": "3.5.2"
  }
 },
 "nbformat": 4,
 "nbformat_minor": 1
}
