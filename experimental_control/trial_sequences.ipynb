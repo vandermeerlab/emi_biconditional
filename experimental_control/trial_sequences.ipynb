{
 "cells": [
  {
   "cell_type": "code",
   "execution_count": null,
   "metadata": {
    "ExecuteTime": {
     "end_time": "2017-05-02T08:04:10.200684",
     "start_time": "2017-05-02T08:04:09.862922"
    },
    "collapsed": true
   },
   "outputs": [],
   "source": [
    "%matplotlib inline\n",
    "import numpy as np\n",
    "import matplotlib.pyplot as plt\n",
    "import random"
   ]
  },
  {
   "cell_type": "code",
   "execution_count": null,
   "metadata": {
    "ExecuteTime": {
     "end_time": "2017-04-04T08:46:32.371978",
     "start_time": "2017-04-04T08:46:32.366973"
    },
    "collapsed": true
   },
   "outputs": [],
   "source": [
    "trial_types_12 = [1, 1, 1, 1, 2, 2, 2, 2]\n",
    "trial_types_34 = [3, 3, 3, 3, 4, 4, 4, 4]\n",
    "trial_types = [1, 1, 1, 1, 2, 2, 2, 2, 3, 3, 3, 3, 4, 4, 4, 4]\n",
    "iti_lengths = ['150\"', '270\"', '210\"', '330\"', '150\"', '270\"', '210\"', '330\"', '150\"', '270\"', '210\"', '330\"', \n",
    "               '150\"', '270\"', '210\"', '330\"', '150\"', '270\"', '210\"', '330\"', '150\"', '270\"', '210\"', '330\"', \n",
    "               '150\"', '270\"', '210\"', '330\"', '150\"', '270\"', '210\"', '330\"']"
   ]
  },
  {
   "cell_type": "code",
   "execution_count": null,
   "metadata": {
    "ExecuteTime": {
     "end_time": "2017-05-02T08:09:45.042904",
     "start_time": "2017-05-02T08:09:45.036900"
    },
    "collapsed": true
   },
   "outputs": [],
   "source": [
    "iti_lengths = ['90\"', '105\"', '135\"', '150\"', '90\"', '105\"', '135\"', '150\"', '90\"', '105\"', '135\"', '150\"',\n",
    "               '90\"', '105\"', '135\"', '150\"', '90\"', '105\"', '135\"', '150\"', '90\"', '105\"', '135\"', '150\"',\n",
    "               '90\"', '105\"', '135\"', '150\"', '90\"', '105\"', '135\"', '150\"', '90\"', '105\"', '135\"', '150\"',\n",
    "               '90\"', '105\"', '135\"', '150\"', '90\"', '105\"', '135\"', '150\"', '90\"', '105\"', '135\"', '150\"',\n",
    "               '90\"', '105\"', '135\"', '150\"', '90\"', '105\"', '135\"', '150\"', '90\"', '105\"', '135\"', '150\"',\n",
    "               '90\"', '105\"', '135\"', '150\"']"
   ]
  },
  {
   "cell_type": "code",
   "execution_count": null,
   "metadata": {
    "ExecuteTime": {
     "end_time": "2017-05-02T08:10:06.023897",
     "start_time": "2017-05-02T08:10:06.013390"
    },
    "collapsed": false
   },
   "outputs": [],
   "source": [
    "def check_sequence(sequence, n_row):\n",
    "    if n_row <= 1:\n",
    "        raise ValueError(\"n_row must be >= 2\")\n",
    "    trials = np.unique(sequence)\n",
    "\n",
    "    for trial in trials:\n",
    "        start, end = None, None\n",
    "        for i, x in enumerate(sequence):\n",
    "            if x == trial and start is None:\n",
    "                start = i\n",
    "            if x != trial and start is not None and end is None:\n",
    "                end = i-1\n",
    "            if start is not None and end is not None:\n",
    "                if end-start+1 > n_row:\n",
    "                    return False\n",
    "                else:\n",
    "                    start, end = None, None\n",
    "\n",
    "    return True"
   ]
  },
  {
   "cell_type": "code",
   "execution_count": null,
   "metadata": {
    "ExecuteTime": {
     "end_time": "2017-05-02T08:10:06.870659",
     "start_time": "2017-05-02T08:10:06.861151"
    },
    "collapsed": true
   },
   "outputs": [],
   "source": [
    "def check_trial_prior(sequence, trial, n_prior):\n",
    "    trials = np.unique(sequence)\n",
    "    counts = {trial: 0 for trial in trials}\n",
    "    \n",
    "    for i, x in enumerate(sequence):\n",
    "        if x == trial:\n",
    "            counts[sequence[i-1]] += 1\n",
    "\n",
    "    return not any(trial_val > n_prior for trial_val in counts.values())\n",
    "\n",
    "def check_prior(sequence, n_prior):\n",
    "    trials = np.unique(sequence)\n",
    "    return all(check_trial_prior(sequence, trial, n_prior) for trial in trials)"
   ]
  },
  {
   "cell_type": "code",
   "execution_count": null,
   "metadata": {
    "ExecuteTime": {
     "end_time": "2017-05-02T08:10:08.184270",
     "start_time": "2017-05-02T08:10:08.173262"
    },
    "collapsed": false
   },
   "outputs": [],
   "source": [
    "def find_sequence(trial_types, n_row, n_prior, n_sequences):\n",
    "    \"\"\"Finds sequences that have fewer than x of the same trial type or reward outcome in a row. \n",
    "    \"\"\"\n",
    "    sequences = []\n",
    "    \n",
    "    while len(sequences) < n_sequences:\n",
    "        np.random.shuffle(trial_types)\n",
    "        sequence = trial_types.copy()\n",
    "        outcome_sequence = [x % 2 for x in sequence]\n",
    "\n",
    "        if not check_sequence(sequence, n_row):\n",
    "            continue\n",
    "        if not check_sequence(outcome_sequence, n_row):\n",
    "            continue\n",
    "        if not check_prior(sequence, n_prior):\n",
    "            continue\n",
    "\n",
    "        sequences.append(sequence)\n",
    "    \n",
    "    return sequences"
   ]
  },
  {
   "cell_type": "code",
   "execution_count": null,
   "metadata": {
    "ExecuteTime": {
     "end_time": "2017-05-02T08:10:09.356399",
     "start_time": "2017-05-02T08:10:09.349394"
    },
    "collapsed": true
   },
   "outputs": [],
   "source": [
    "def find_iti(iti_lengths, n_row, n_sequences):\n",
    "    \"\"\"Finds sequences that have fewer than x of the same trial type or reward outcome in a row.    \n",
    "    \"\"\"\n",
    "    sequences = []\n",
    "    \n",
    "    while len(sequences) < n_sequences:\n",
    "        np.random.shuffle(iti_lengths)\n",
    "        sequence = iti_lengths.copy()\n",
    "\n",
    "        if not check_sequence(sequence, n_row):\n",
    "            continue\n",
    "        sequences.append(', '.join(sequence))\n",
    "    \n",
    "    return sequences"
   ]
  },
  {
   "cell_type": "code",
   "execution_count": null,
   "metadata": {
    "ExecuteTime": {
     "end_time": "2017-04-04T08:59:07.311671",
     "start_time": "2017-04-04T08:59:07.305167"
    },
    "collapsed": false
   },
   "outputs": [],
   "source": [
    "sequences_12 = find_sequence(trial_types_12, n_row=2, n_prior=4, n_sequences=20)\n",
    "print(sequences_12[0])"
   ]
  },
  {
   "cell_type": "code",
   "execution_count": null,
   "metadata": {
    "ExecuteTime": {
     "end_time": "2017-04-04T08:59:07.646409",
     "start_time": "2017-04-04T08:59:07.639905"
    },
    "collapsed": false
   },
   "outputs": [],
   "source": [
    "sequences_34 = find_sequence(trial_types_34, n_row=2, n_prior=4, n_sequences=20)\n",
    "print(sequences_34[0])"
   ]
  },
  {
   "cell_type": "code",
   "execution_count": null,
   "metadata": {
    "ExecuteTime": {
     "end_time": "2017-03-29T15:48:13.004920",
     "start_time": "2017-03-29T15:48:12.986388"
    },
    "collapsed": false
   },
   "outputs": [],
   "source": [
    "sequences = find_sequence(trial_types, n_row=2, n_prior=4, n_sequences=20)\n",
    "print(sequences[0])"
   ]
  },
  {
   "cell_type": "code",
   "execution_count": null,
   "metadata": {
    "ExecuteTime": {
     "end_time": "2017-05-02T08:10:25.640663",
     "start_time": "2017-05-02T08:10:25.622149"
    },
    "collapsed": false
   },
   "outputs": [],
   "source": [
    "iti_sequences = find_iti(iti_lengths, n_row=2, n_sequences=20)\n",
    "print(iti_sequences[0])"
   ]
  },
  {
   "cell_type": "code",
   "execution_count": null,
   "metadata": {
    "ExecuteTime": {
     "end_time": "2017-03-29T15:48:15.389286",
     "start_time": "2017-03-29T15:48:15.385802"
    },
    "collapsed": false
   },
   "outputs": [],
   "source": [
    "for sequence in sequences:\n",
    "    print(sequence)"
   ]
  },
  {
   "cell_type": "code",
   "execution_count": null,
   "metadata": {
    "ExecuteTime": {
     "end_time": "2017-04-04T08:59:10.242755",
     "start_time": "2017-04-04T08:59:10.239753"
    },
    "collapsed": false
   },
   "outputs": [],
   "source": [
    "for sequence in sequences_12:\n",
    "    print(sequence)"
   ]
  },
  {
   "cell_type": "code",
   "execution_count": null,
   "metadata": {
    "ExecuteTime": {
     "end_time": "2017-04-04T08:59:10.834676",
     "start_time": "2017-04-04T08:59:10.831674"
    },
    "collapsed": false
   },
   "outputs": [],
   "source": [
    "for sequence in sequences_34:\n",
    "    print(sequence)"
   ]
  },
  {
   "cell_type": "code",
   "execution_count": null,
   "metadata": {
    "ExecuteTime": {
     "end_time": "2017-05-02T08:10:42.840526",
     "start_time": "2017-05-02T08:10:42.837005"
    },
    "collapsed": false
   },
   "outputs": [],
   "source": [
    "for sequence in iti_sequences:\n",
    "    print(sequence)"
   ]
  },
  {
   "cell_type": "code",
   "execution_count": null,
   "metadata": {
    "ExecuteTime": {
     "end_time": "2017-03-29T12:19:57.510506",
     "start_time": "2017-03-29T12:19:57.503019"
    },
    "collapsed": true
   },
   "outputs": [],
   "source": [
    "def check_sequences(sequences, n_row, n_prior):\n",
    "    verified_sequences = []\n",
    "    for sequence in sequences:\n",
    "        outcome_sequence = [x % 2 for x in sequence]\n",
    "\n",
    "        if not check_sequence(sequence, n_row):\n",
    "            continue\n",
    "        if not check_sequence(outcome_sequence, n_row):\n",
    "            continue\n",
    "        if not check_prior(sequence, n_prior):\n",
    "            continue\n",
    "        verified_sequences.append(sequence)\n",
    "    return verified_sequences"
   ]
  },
  {
   "cell_type": "code",
   "execution_count": null,
   "metadata": {
    "collapsed": true
   },
   "outputs": [],
   "source": []
  },
  {
   "cell_type": "code",
   "execution_count": null,
   "metadata": {
    "ExecuteTime": {
     "end_time": "2017-03-29T12:20:26.942722",
     "start_time": "2017-03-29T12:20:26.933215"
    },
    "collapsed": false
   },
   "outputs": [],
   "source": [
    "verified = check_sequences(sequences, n_row=3, n_prior=4)"
   ]
  },
  {
   "cell_type": "code",
   "execution_count": null,
   "metadata": {
    "collapsed": true
   },
   "outputs": [],
   "source": []
  },
  {
   "cell_type": "code",
   "execution_count": null,
   "metadata": {
    "collapsed": true
   },
   "outputs": [],
   "source": []
  },
  {
   "cell_type": "code",
   "execution_count": null,
   "metadata": {
    "collapsed": true
   },
   "outputs": [],
   "source": []
  }
 ],
 "metadata": {
  "kernelspec": {
   "display_name": "Python 3",
   "language": "python",
   "name": "python3"
  },
  "language_info": {
   "codemirror_mode": {
    "name": "ipython",
    "version": 3
   },
   "file_extension": ".py",
   "mimetype": "text/x-python",
   "name": "python",
   "nbconvert_exporter": "python",
   "pygments_lexer": "ipython3",
   "version": "3.5.2"
  },
  "toc": {
   "colors": {
    "hover_highlight": "#DAA520",
    "running_highlight": "#FF0000",
    "selected_highlight": "#FFD700"
   },
   "moveMenuLeft": true,
   "nav_menu": {
    "height": "12px",
    "width": "252px"
   },
   "navigate_menu": true,
   "number_sections": true,
   "sideBar": true,
   "threshold": 4,
   "toc_cell": false,
   "toc_section_display": "block",
   "toc_window_display": false
  }
 },
 "nbformat": 4,
 "nbformat_minor": 0
}
