{
 "cells": [
  {
   "cell_type": "code",
   "execution_count": null,
   "metadata": {
    "ExecuteTime": {
     "end_time": "2017-05-07T10:53:06.699579",
     "start_time": "2017-05-07T10:53:00.335294"
    },
    "collapsed": true
   },
   "outputs": [],
   "source": [
    "%matplotlib inline\n",
    "import os\n",
    "import numpy as np\n",
    "import pandas as pd\n",
    "\n",
    "import matplotlib.pyplot as plt\n",
    "import nept\n",
    "from core import Rat, combine_rats\n",
    "from load_data import assign_label\n",
    "from plotting import plot_behavior, plot_duration"
   ]
  },
  {
   "cell_type": "code",
   "execution_count": null,
   "metadata": {
    "ExecuteTime": {
     "end_time": "2017-05-07T10:53:06.704082",
     "start_time": "2017-05-07T10:53:06.701080"
    },
    "collapsed": true
   },
   "outputs": [],
   "source": [
    "data_filepath = 'E:/code/emi_biconditional/cache/data/spring2017'"
   ]
  },
  {
   "cell_type": "code",
   "execution_count": null,
   "metadata": {
    "ExecuteTime": {
     "end_time": "2017-05-07T10:53:06.715089",
     "start_time": "2017-05-07T10:53:06.705583"
    },
    "collapsed": true
   },
   "outputs": [],
   "source": [
    "sessions = ['!2017-05-04', '!2017-05-05']"
   ]
  },
  {
   "cell_type": "code",
   "execution_count": null,
   "metadata": {
    "ExecuteTime": {
     "end_time": "2017-05-07T10:53:09.662694",
     "start_time": "2017-05-07T10:53:06.717091"
    },
    "collapsed": false
   },
   "outputs": [],
   "source": [
    "# rats = ['R141', 'R142', 'R143', 'R144', 'R145', 'R146', 'R147', 'R148']\n",
    "rats = ['R141']\n",
    "groups = [1, 2, 2, 1, 2, 1, 1, 2]\n",
    "males = ['R141', 'R143', 'R145', 'R147']\n",
    "females = ['R142', 'R144', 'R146', 'R148']\n",
    "group1 = ['R141', 'R144', 'R146', 'R147']\n",
    "group2 = ['R142', 'R143', 'R145', 'R148']\n",
    "\n",
    "cue_duration = 10\n",
    "iti_buffer = 2\n",
    "\n",
    "data = dict()\n",
    "for rat in rats:\n",
    "    data[rat] = Rat(rat, group1, group2)\n",
    "\n",
    "for session in sessions:\n",
    "    rats_data = nept.load_medpc(os.path.join(data_filepath, session), assign_label)\n",
    "\n",
    "    for rat in rats:\n",
    "        iti_starts = []\n",
    "        iti_stops = []\n",
    "        for trial in ['trial1', 'trial2', 'trial3', 'trial4']:\n",
    "            iti_starts.extend(rats_data[rat][trial].starts - cue_duration - iti_buffer)\n",
    "            iti_stops.extend(rats_data[rat][trial].starts - iti_buffer)\n",
    "        rats_data[rat]['iti'] = nept.Epoch(np.vstack([iti_starts, iti_stops]))\n",
    "\n",
    "    for rat, group in zip(rats, groups):\n",
    "        data[rat].add_session(**rats_data[rat], group=group)\n",
    "\n",
    "n_sessions = len(data[rats[0]].sessions)\n",
    "\n",
    "df = combine_rats(data, rats, n_sessions)"
   ]
  },
  {
   "cell_type": "code",
   "execution_count": null,
   "metadata": {
    "ExecuteTime": {
     "end_time": "2017-05-07T07:51:50.243108",
     "start_time": "2017-05-07T07:51:50.236603"
    },
    "collapsed": false
   },
   "outputs": [],
   "source": [
    "len(df)"
   ]
  },
  {
   "cell_type": "code",
   "execution_count": null,
   "metadata": {
    "ExecuteTime": {
     "end_time": "2017-05-07T10:43:43.009716",
     "start_time": "2017-05-07T10:43:42.999715"
    },
    "collapsed": false,
    "scrolled": false
   },
   "outputs": [],
   "source": [
    "long = df[df['session'] == 1]\n",
    "short = df[df['session'] == 2]"
   ]
  },
  {
   "cell_type": "code",
   "execution_count": null,
   "metadata": {
    "ExecuteTime": {
     "end_time": "2017-05-07T10:49:21.527862",
     "start_time": "2017-05-07T10:49:21.519855"
    },
    "collapsed": false
   },
   "outputs": [],
   "source": [
    "len(np.unique(long['trial']))"
   ]
  },
  {
   "cell_type": "code",
   "execution_count": null,
   "metadata": {
    "ExecuteTime": {
     "end_time": "2017-05-07T10:47:38.959806",
     "start_time": "2017-05-07T10:47:38.954301"
    },
    "collapsed": false
   },
   "outputs": [],
   "source": [
    "np.sum(long['session'] == 1)"
   ]
  },
  {
   "cell_type": "code",
   "execution_count": null,
   "metadata": {
    "ExecuteTime": {
     "end_time": "2017-05-07T10:47:56.369178",
     "start_time": "2017-05-07T10:47:56.361674"
    },
    "collapsed": false
   },
   "outputs": [],
   "source": [
    "np.sum(short['session'] == 2)"
   ]
  },
  {
   "cell_type": "code",
   "execution_count": null,
   "metadata": {
    "ExecuteTime": {
     "end_time": "2017-05-07T10:49:11.569573",
     "start_time": "2017-05-07T10:49:11.562068"
    },
    "collapsed": false
   },
   "outputs": [],
   "source": [
    "len(np.unique(short['trial']))"
   ]
  },
  {
   "cell_type": "code",
   "execution_count": null,
   "metadata": {
    "ExecuteTime": {
     "end_time": "2017-05-07T10:50:07.490435",
     "start_time": "2017-05-07T10:50:07.432895"
    },
    "collapsed": false,
    "scrolled": false
   },
   "outputs": [],
   "source": [
    "long"
   ]
  },
  {
   "cell_type": "code",
   "execution_count": null,
   "metadata": {
    "ExecuteTime": {
     "end_time": "2017-05-07T10:51:15.480302",
     "start_time": "2017-05-07T10:51:15.419259"
    },
    "collapsed": false,
    "scrolled": false
   },
   "outputs": [],
   "source": [
    "short"
   ]
  },
  {
   "cell_type": "code",
   "execution_count": null,
   "metadata": {
    "collapsed": true
   },
   "outputs": [],
   "source": []
  },
  {
   "cell_type": "code",
   "execution_count": null,
   "metadata": {
    "collapsed": true
   },
   "outputs": [],
   "source": []
  },
  {
   "cell_type": "code",
   "execution_count": null,
   "metadata": {
    "ExecuteTime": {
     "end_time": "2017-05-07T10:53:35.473507",
     "start_time": "2017-05-07T10:53:32.546347"
    },
    "collapsed": false
   },
   "outputs": [],
   "source": [
    "output_filepath = 'E:/code/emi_biconditional/cache/'\n",
    "\n",
    "for rat in rats:\n",
    "    filename = rat + '_outcome_behavior.png'\n",
    "    filepath = os.path.join(output_filepath, filename)\n",
    "    plot_behavior(df, [rat], filepath=None, by_outcome=True)"
   ]
  },
  {
   "cell_type": "code",
   "execution_count": null,
   "metadata": {
    "ExecuteTime": {
     "end_time": "2017-05-06T19:44:08.188426",
     "start_time": "2017-05-06T19:44:08.177420"
    },
    "collapsed": false,
    "scrolled": false
   },
   "outputs": [],
   "source": [
    "single_session = df[df['session'] == 1].copy()\n",
    "\n",
    "if int(len(single_session) / (3 * 4)) == 32: # 3 light, sound, iti. 4 measures.\n",
    "    rat = single_session['rat'][0]\n",
    "    trials = []\n",
    "    for trial in range(len(single_session)):\n",
    "        trials.append('%s, %d' % (rat, int(trial/4)+96))\n",
    "    single_session['trial'] = trials\n",
    "\n",
    "this_df = pd.concat([df, single_session], ignore_index=True)"
   ]
  },
  {
   "cell_type": "code",
   "execution_count": null,
   "metadata": {
    "ExecuteTime": {
     "end_time": "2017-05-06T19:47:31.692463",
     "start_time": "2017-05-06T19:47:31.685959"
    },
    "collapsed": false
   },
   "outputs": [],
   "source": [
    "np.unique(df['session'])"
   ]
  },
  {
   "cell_type": "code",
   "execution_count": null,
   "metadata": {
    "ExecuteTime": {
     "end_time": "2017-05-06T19:34:10.416263",
     "start_time": "2017-05-06T19:34:10.390745"
    },
    "collapsed": false
   },
   "outputs": [],
   "source": [
    "this_df[380:400]"
   ]
  },
  {
   "cell_type": "code",
   "execution_count": null,
   "metadata": {
    "collapsed": true
   },
   "outputs": [],
   "source": []
  },
  {
   "cell_type": "code",
   "execution_count": null,
   "metadata": {
    "ExecuteTime": {
     "end_time": "2017-05-06T19:24:59.054391",
     "start_time": "2017-05-06T19:24:59.045886"
    },
    "collapsed": false
   },
   "outputs": [],
   "source": [
    "len(df[df['session'] == 2])"
   ]
  },
  {
   "cell_type": "code",
   "execution_count": null,
   "metadata": {
    "ExecuteTime": {
     "end_time": "2017-05-06T19:25:41.712029",
     "start_time": "2017-05-06T19:25:41.706000"
    },
    "collapsed": false
   },
   "outputs": [],
   "source": [
    "384 / 4"
   ]
  },
  {
   "cell_type": "code",
   "execution_count": null,
   "metadata": {
    "ExecuteTime": {
     "end_time": "2017-05-06T19:26:09.033513",
     "start_time": "2017-05-06T19:26:09.028009"
    },
    "collapsed": false
   },
   "outputs": [],
   "source": [
    "384 / 32"
   ]
  },
  {
   "cell_type": "code",
   "execution_count": null,
   "metadata": {
    "ExecuteTime": {
     "end_time": "2017-05-06T19:26:32.381521",
     "start_time": "2017-05-06T19:26:32.375536"
    },
    "collapsed": false
   },
   "outputs": [],
   "source": [
    "3 * 4"
   ]
  },
  {
   "cell_type": "code",
   "execution_count": null,
   "metadata": {
    "ExecuteTime": {
     "end_time": "2017-05-06T19:27:38.764484",
     "start_time": "2017-05-06T19:27:38.711448"
    },
    "collapsed": false
   },
   "outputs": [],
   "source": [
    "df"
   ]
  },
  {
   "cell_type": "code",
   "execution_count": null,
   "metadata": {
    "collapsed": true
   },
   "outputs": [],
   "source": []
  }
 ],
 "metadata": {
  "kernelspec": {
   "display_name": "Python 3",
   "language": "python",
   "name": "python3"
  },
  "language_info": {
   "codemirror_mode": {
    "name": "ipython",
    "version": 3
   },
   "file_extension": ".py",
   "mimetype": "text/x-python",
   "name": "python",
   "nbconvert_exporter": "python",
   "pygments_lexer": "ipython3",
   "version": "3.5.2"
  },
  "toc": {
   "colors": {
    "hover_highlight": "#DAA520",
    "running_highlight": "#FF0000",
    "selected_highlight": "#FFD700"
   },
   "moveMenuLeft": true,
   "nav_menu": {
    "height": "12px",
    "width": "252px"
   },
   "navigate_menu": true,
   "number_sections": true,
   "sideBar": true,
   "threshold": 4,
   "toc_cell": false,
   "toc_section_display": "block",
   "toc_window_display": false
  }
 },
 "nbformat": 4,
 "nbformat_minor": 0
}
