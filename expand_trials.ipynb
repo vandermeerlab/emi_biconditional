{
 "cells": [
  {
   "cell_type": "code",
   "execution_count": null,
   "metadata": {
    "ExecuteTime": {
     "end_time": "2017-05-19T17:30:49.757433",
     "start_time": "2017-05-19T17:30:48.999392"
    },
    "collapsed": true
   },
   "outputs": [],
   "source": [
    "%matplotlib inline\n",
    "import os\n",
    "import numpy as np\n",
    "import pandas as pd\n",
    "\n",
    "\n",
    "import matplotlib.pyplot as plt\n",
    "import nept\n",
    "from core import Rat, combine_rats\n",
    "from load_data import assign_label\n",
    "from plotting import plot_behavior, plot_duration"
   ]
  },
  {
   "cell_type": "code",
   "execution_count": null,
   "metadata": {
    "ExecuteTime": {
     "end_time": "2017-05-19T17:30:49.764600",
     "start_time": "2017-05-19T17:30:49.757433"
    },
    "collapsed": true
   },
   "outputs": [],
   "source": [
    "data_filepath = os.path.join(os.getcwd(), 'cache/data/spring2017')\n",
    "output_filepath = os.path.join(os.getcwd(), 'plots/spring2017')"
   ]
  },
  {
   "cell_type": "code",
   "execution_count": null,
   "metadata": {
    "ExecuteTime": {
     "end_time": "2017-05-19T17:30:49.796760",
     "start_time": "2017-05-19T17:30:49.764600"
    },
    "collapsed": true
   },
   "outputs": [],
   "source": [
    "sessions = ['!2017-04-17', '!2017-04-18', '!2017-05-17']"
   ]
  },
  {
   "cell_type": "code",
   "execution_count": null,
   "metadata": {
    "ExecuteTime": {
     "end_time": "2017-05-19T17:30:53.242570",
     "start_time": "2017-05-19T17:30:50.451170"
    },
    "scrolled": true
   },
   "outputs": [],
   "source": [
    "# rats = ['R141', 'R142', 'R143', 'R144', 'R145', 'R146', 'R147', 'R148']\n",
    "rats = ['R145']\n",
    "groups = [1, 2, 2, 1, 2, 1, 1, 2]\n",
    "males = ['R141', 'R143', 'R145', 'R147']\n",
    "females = ['R142', 'R144', 'R146', 'R148']\n",
    "group1 = ['R141', 'R144', 'R146', 'R147']\n",
    "group2 = ['R142', 'R143', 'R145', 'R148']\n",
    "\n",
    "cue_duration = 10\n",
    "iti_buffer = 2\n",
    "\n",
    "data = dict()\n",
    "for rat in rats:\n",
    "    data[rat] = Rat(rat, group1, group2)\n",
    "\n",
    "for session in sessions:\n",
    "    rats_data = nept.load_medpc(os.path.join(data_filepath, session), assign_label)\n",
    "\n",
    "    for rat in rats:\n",
    "        iti_starts = []\n",
    "        iti_stops = []\n",
    "        for trial in ['trial1', 'trial2', 'trial3', 'trial4']:\n",
    "            iti_starts.extend(rats_data[rat][trial].starts - cue_duration - iti_buffer)\n",
    "            iti_stops.extend(rats_data[rat][trial].starts - iti_buffer)\n",
    "        rats_data[rat]['iti'] = nept.Epoch(np.vstack([iti_starts, iti_stops]))\n",
    "        \n",
    "        post_rewarded_starts = []\n",
    "        post_rewarded_stops = []\n",
    "        for trial in ['trial2', 'trial4']:\n",
    "            post_rewarded_starts.extend(rats_data[rat][trial].stops)\n",
    "            post_rewarded_stops.extend(rats_data[rat][trial].stops + cue_duration)\n",
    "        rats_data[rat]['post_rewarded'] = nept.Epoch(np.vstack([post_rewarded_starts, post_rewarded_stops]))\n",
    "\n",
    "        post_unrewarded_starts = []\n",
    "        post_unrewarded_stops = []\n",
    "        for trial in ['trial1', 'trial3']:\n",
    "            post_unrewarded_starts.extend(rats_data[rat][trial].stops)\n",
    "            post_unrewarded_stops.extend(rats_data[rat][trial].stops + cue_duration)\n",
    "        rats_data[rat]['post_unrewarded'] = nept.Epoch(np.vstack([post_unrewarded_starts, post_unrewarded_stops]))\n",
    "\n",
    "    for rat, group in zip(rats, groups):\n",
    "        data[rat].add_session(**rats_data[rat], group=group)\n",
    "\n",
    "n_sessions = len(data[rats[0]].sessions)\n",
    "\n",
    "df = combine_rats(data, rats, n_sessions)"
   ]
  },
  {
   "cell_type": "code",
   "execution_count": null,
   "metadata": {
    "ExecuteTime": {
     "end_time": "2017-05-19T17:30:56.260871",
     "start_time": "2017-05-19T17:30:53.242570"
    }
   },
   "outputs": [],
   "source": [
    "for rat in rats:\n",
    "    filename = rat + '_outcome_behavior.png'\n",
    "    filepath = os.path.join(output_filepath, filename)\n",
    "    plot_behavior(df, [rat], filepath=None, by_outcome=True)"
   ]
  },
  {
   "cell_type": "code",
   "execution_count": null,
   "metadata": {
    "collapsed": true
   },
   "outputs": [],
   "source": []
  }
 ],
 "metadata": {
  "anaconda-cloud": {},
  "kernelspec": {
   "display_name": "Python 3",
   "language": "python",
   "name": "python3"
  },
  "language_info": {
   "codemirror_mode": {
    "name": "ipython",
    "version": 3
   },
   "file_extension": ".py",
   "mimetype": "text/x-python",
   "name": "python",
   "nbconvert_exporter": "python",
   "pygments_lexer": "ipython3",
   "version": "3.6.1"
  },
  "toc": {
   "colors": {
    "hover_highlight": "#DAA520",
    "running_highlight": "#FF0000",
    "selected_highlight": "#FFD700"
   },
   "moveMenuLeft": true,
   "nav_menu": {
    "height": "12px",
    "width": "252px"
   },
   "navigate_menu": true,
   "number_sections": true,
   "sideBar": true,
   "threshold": 4,
   "toc_cell": false,
   "toc_section_display": "block",
   "toc_window_display": false
  }
 },
 "nbformat": 4,
 "nbformat_minor": 1
}
