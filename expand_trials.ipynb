{
 "cells": [
  {
   "cell_type": "code",
   "execution_count": null,
   "metadata": {
    "ExecuteTime": {
     "end_time": "2017-05-07T15:43:40.482134",
     "start_time": "2017-05-07T15:43:39.546015"
    },
    "collapsed": true
   },
   "outputs": [],
   "source": [
    "%matplotlib inline\n",
    "import os\n",
    "import numpy as np\n",
    "import pandas as pd\n",
    "\n",
    "import matplotlib.pyplot as plt\n",
    "import nept\n",
    "from core import Rat, combine_rats\n",
    "from load_data import assign_label\n",
    "from plotting import plot_behavior, plot_duration"
   ]
  },
  {
   "cell_type": "code",
   "execution_count": null,
   "metadata": {
    "ExecuteTime": {
     "end_time": "2017-05-07T15:43:40.489130",
     "start_time": "2017-05-07T15:43:40.482134"
    },
    "collapsed": true
   },
   "outputs": [],
   "source": [
    "data_filepath = os.path.join(os.getcwd(), 'cache/data/spring2017')"
   ]
  },
  {
   "cell_type": "code",
   "execution_count": null,
   "metadata": {
    "ExecuteTime": {
     "end_time": "2017-05-07T15:43:40.517135",
     "start_time": "2017-05-07T15:43:40.489130"
    },
    "collapsed": true
   },
   "outputs": [],
   "source": [
    "sessions = ['!2017-05-03', '!2017-05-04', '!2017-05-05']"
   ]
  },
  {
   "cell_type": "code",
   "execution_count": null,
   "metadata": {
    "ExecuteTime": {
     "end_time": "2017-05-07T15:43:44.824829",
     "start_time": "2017-05-07T15:43:40.813159"
    },
    "collapsed": false
   },
   "outputs": [],
   "source": [
    "# rats = ['R141', 'R142', 'R143', 'R144', 'R145', 'R146', 'R147', 'R148']\n",
    "rats = ['R141']\n",
    "groups = [1, 2, 2, 1, 2, 1, 1, 2]\n",
    "males = ['R141', 'R143', 'R145', 'R147']\n",
    "females = ['R142', 'R144', 'R146', 'R148']\n",
    "group1 = ['R141', 'R144', 'R146', 'R147']\n",
    "group2 = ['R142', 'R143', 'R145', 'R148']\n",
    "\n",
    "cue_duration = 10\n",
    "iti_buffer = 2\n",
    "\n",
    "data = dict()\n",
    "for rat in rats:\n",
    "    data[rat] = Rat(rat, group1, group2)\n",
    "\n",
    "for session in sessions:\n",
    "    rats_data = nept.load_medpc(os.path.join(data_filepath, session), assign_label)\n",
    "\n",
    "    for rat in rats:\n",
    "        iti_starts = []\n",
    "        iti_stops = []\n",
    "        for trial in ['trial1', 'trial2', 'trial3', 'trial4']:\n",
    "            iti_starts.extend(rats_data[rat][trial].starts - cue_duration - iti_buffer)\n",
    "            iti_stops.extend(rats_data[rat][trial].starts - iti_buffer)\n",
    "        rats_data[rat]['iti'] = nept.Epoch(np.vstack([iti_starts, iti_stops]))\n",
    "\n",
    "    for rat, group in zip(rats, groups):\n",
    "        data[rat].add_session(**rats_data[rat], group=group)\n",
    "\n",
    "n_sessions = len(data[rats[0]].sessions)\n",
    "\n",
    "df = combine_rats(data, rats, n_sessions)"
   ]
  },
  {
   "cell_type": "code",
   "execution_count": null,
   "metadata": {
    "ExecuteTime": {
     "end_time": "2017-05-07T15:45:03.896305",
     "start_time": "2017-05-07T15:45:03.868305"
    },
    "collapsed": false
   },
   "outputs": [],
   "source": [
    "df[df['session'] == 1 & df['rat'] == 'R141']"
   ]
  },
  {
   "cell_type": "code",
   "execution_count": null,
   "metadata": {
    "ExecuteTime": {
     "end_time": "2017-05-07T15:24:41.389406",
     "start_time": "2017-05-07T15:24:39.151805"
    },
    "collapsed": false
   },
   "outputs": [],
   "source": [
    "output_filepath = 'E:/code/emi_biconditional/cache/'\n",
    "\n",
    "for rat in rats:\n",
    "    filename = rat + '_outcome_behavior.png'\n",
    "    filepath = os.path.join(output_filepath, filename)\n",
    "    plot_behavior(df, [rat], filepath=None, by_outcome=True)"
   ]
  },
  {
   "cell_type": "code",
   "execution_count": null,
   "metadata": {
    "collapsed": true
   },
   "outputs": [],
   "source": []
  },
  {
   "cell_type": "code",
   "execution_count": null,
   "metadata": {
    "ExecuteTime": {
     "end_time": "2017-05-06T19:24:59.054391",
     "start_time": "2017-05-06T19:24:59.045886"
    },
    "collapsed": false
   },
   "outputs": [],
   "source": [
    "len(df[df['session'] == 2])"
   ]
  },
  {
   "cell_type": "code",
   "execution_count": null,
   "metadata": {
    "ExecuteTime": {
     "end_time": "2017-05-06T19:25:41.712029",
     "start_time": "2017-05-06T19:25:41.706000"
    },
    "collapsed": false
   },
   "outputs": [],
   "source": [
    "384 / 4"
   ]
  },
  {
   "cell_type": "code",
   "execution_count": null,
   "metadata": {
    "ExecuteTime": {
     "end_time": "2017-05-06T19:26:09.033513",
     "start_time": "2017-05-06T19:26:09.028009"
    },
    "collapsed": false
   },
   "outputs": [],
   "source": [
    "384 / 32"
   ]
  },
  {
   "cell_type": "code",
   "execution_count": null,
   "metadata": {
    "ExecuteTime": {
     "end_time": "2017-05-06T19:26:32.381521",
     "start_time": "2017-05-06T19:26:32.375536"
    },
    "collapsed": false
   },
   "outputs": [],
   "source": [
    "3 * 4"
   ]
  },
  {
   "cell_type": "code",
   "execution_count": null,
   "metadata": {
    "ExecuteTime": {
     "end_time": "2017-05-06T19:27:38.764484",
     "start_time": "2017-05-06T19:27:38.711448"
    },
    "collapsed": false
   },
   "outputs": [],
   "source": [
    "df"
   ]
  },
  {
   "cell_type": "code",
   "execution_count": null,
   "metadata": {
    "collapsed": true
   },
   "outputs": [],
   "source": []
  }
 ],
 "metadata": {
  "anaconda-cloud": {},
  "kernelspec": {
   "display_name": "Python [default]",
   "language": "python",
   "name": "python3"
  },
  "language_info": {
   "codemirror_mode": {
    "name": "ipython",
    "version": 3
   },
   "file_extension": ".py",
   "mimetype": "text/x-python",
   "name": "python",
   "nbconvert_exporter": "python",
   "pygments_lexer": "ipython3",
   "version": "3.5.2"
  },
  "toc": {
   "colors": {
    "hover_highlight": "#DAA520",
    "running_highlight": "#FF0000",
    "selected_highlight": "#FFD700"
   },
   "moveMenuLeft": true,
   "nav_menu": {
    "height": "12px",
    "width": "252px"
   },
   "navigate_menu": true,
   "number_sections": true,
   "sideBar": true,
   "threshold": 4,
   "toc_cell": false,
   "toc_section_display": "block",
   "toc_window_display": false
  }
 },
 "nbformat": 4,
 "nbformat_minor": 0
}
