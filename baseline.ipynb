{
 "cells": [
  {
   "cell_type": "code",
   "execution_count": null,
   "metadata": {
    "ExecuteTime": {
     "end_time": "2017-04-20T17:32:20.297641",
     "start_time": "2017-04-20T17:32:19.253880"
    },
    "collapsed": true
   },
   "outputs": [],
   "source": [
    "%matplotlib inline\n",
    "import matplotlib.pyplot as plt\n",
    "\n",
    "import numpy as np\n",
    "import pandas as pd\n",
    "\n",
    "import os\n",
    "import nept\n",
    "from core import Rat, combine_rats\n",
    "from load_data import assign_label\n",
    "from plotting import plot_behavior, plot_duration"
   ]
  },
  {
   "cell_type": "code",
   "execution_count": null,
   "metadata": {
    "ExecuteTime": {
     "end_time": "2017-04-20T17:32:20.320135",
     "start_time": "2017-04-20T17:32:20.316648"
    },
    "collapsed": true
   },
   "outputs": [],
   "source": [
    "thisdir = 'E:\\code\\emi_biconditional'\n",
    "data_filepath = os.path.join(thisdir, 'cache', 'data', 'spring2017')\n",
    "output_filepath = os.path.join(thisdir, 'plots', 'spring2017')"
   ]
  },
  {
   "cell_type": "code",
   "execution_count": null,
   "metadata": {
    "ExecuteTime": {
     "end_time": "2017-04-20T17:32:20.642380",
     "start_time": "2017-04-20T17:32:20.634891"
    },
    "collapsed": true
   },
   "outputs": [],
   "source": [
    "magazine_session = '!2017-04-14'\n",
    "\n",
    "sessions = []\n",
    "for file in sorted(os.listdir(data_filepath)):\n",
    "    if file != magazine_session and file[0] == '!':\n",
    "        sessions.append(os.path.join(data_filepath, file))\n",
    "        \n",
    "rats = ['R141', 'R142', 'R143', 'R144', 'R145', 'R146', 'R147', 'R148']\n",
    "groups = [1, 2, 2, 1, 2, 1, 1, 2]\n",
    "males = ['R141', 'R143', 'R145', 'R147']\n",
    "females = ['R142', 'R144', 'R146', 'R148']\n",
    "group1 = ['R141', 'R144', 'R146', 'R147']\n",
    "group2 = ['R142', 'R143', 'R145', 'R148']"
   ]
  },
  {
   "cell_type": "code",
   "execution_count": null,
   "metadata": {
    "ExecuteTime": {
     "end_time": "2017-04-20T17:32:56.276907",
     "start_time": "2017-04-20T17:32:21.935725"
    },
    "collapsed": false
   },
   "outputs": [],
   "source": [
    "cue_duration = 10\n",
    "\n",
    "data = dict()\n",
    "for rat in rats:\n",
    "    data[rat] = Rat(rat, group1, group2)\n",
    "\n",
    "for session in sessions:\n",
    "    rats_data = nept.load_medpc(os.path.join(data_filepath, session), assign_label)\n",
    "    \n",
    "    for rat in rats:\n",
    "        iti_starts = []\n",
    "        iti_stops = []\n",
    "        for trial in ['trial1', 'trial2', 'trial3', 'trial4']:\n",
    "            iti_starts.extend(rats_data[rat][trial].starts - cue_duration)\n",
    "            iti_stops.extend(rats_data[rat][trial].starts)\n",
    "        rats_data[rat]['iti'] = nept.Epoch(np.vstack([iti_starts, iti_stops]))\n",
    "            \n",
    "    for rat, group in zip(rats, groups):\n",
    "        data[rat].add_session(**rats_data[rat], group=group)\n",
    "\n",
    "n_sessions = len(data[rats[0]].sessions)\n",
    "\n",
    "df = combine_rats(data, rats, n_sessions)"
   ]
  },
  {
   "cell_type": "code",
   "execution_count": null,
   "metadata": {
    "ExecuteTime": {
     "end_time": "2017-04-20T17:32:57.143061",
     "start_time": "2017-04-20T17:32:56.278409"
    },
    "collapsed": false
   },
   "outputs": [],
   "source": [
    "plot_duration(df, ['R142'], filepath='E:/code/emi_biconditional/plots/zzz.png', by_outcome=True)"
   ]
  },
  {
   "cell_type": "code",
   "execution_count": null,
   "metadata": {
    "ExecuteTime": {
     "start_time": "2017-04-20T21:32:01.884Z"
    },
    "collapsed": false
   },
   "outputs": [],
   "source": [
    "df.tail()"
   ]
  },
  {
   "cell_type": "code",
   "execution_count": null,
   "metadata": {
    "collapsed": true
   },
   "outputs": [],
   "source": []
  },
  {
   "cell_type": "code",
   "execution_count": null,
   "metadata": {
    "collapsed": true
   },
   "outputs": [],
   "source": []
  },
  {
   "cell_type": "code",
   "execution_count": null,
   "metadata": {
    "collapsed": false
   },
   "outputs": [],
   "source": [
    "import measurements as m\n",
    "from core import Experiment, Rat, TrialEpoch\n",
    "\n",
    "\n",
    "expt = Experiment(\n",
    "    name=\"201701\",\n",
    "    trial_epochs=[\n",
    "        TrialEpoch(\"mags\", start_idx=1, stop_idx=2),\n",
    "        TrialEpoch(\"baseline\", start_idx=4, duration=-10),\n",
    "        TrialEpoch(\"baseline\", start_idx=6, duration=-10),\n",
    "        TrialEpoch(\"light1\", start_idx=4, stop_idx=5),\n",
    "        TrialEpoch(\"light2\", start_idx=6, stop_idx=7),\n",
    "        TrialEpoch(\"sound1\", start_idx=8, stop_idx=9),\n",
    "        TrialEpoch(\"sound2\", start_idx=10, stop_idx=11),\n",
    "        TrialEpoch(\"trial1\", start_idx=12, stop_idx=13),\n",
    "        TrialEpoch(\"trial2\", start_idx=14, stop_idx=15),\n",
    "        TrialEpoch(\"trial3\", start_idx=16, stop_idx=17),\n",
    "        TrialEpoch(\"trial4\", start_idx=18, stop_idx=19),\n",
    "    ],\n",
    "    measurements=[m.Duration(), m.Count(), m.Latency(), m.AtLeastOne()],\n",
    "    rats=[\n",
    "        Rat('R114', group=\"1\"),\n",
    "        Rat('R116', group=\"1\"),\n",
    "        Rat('R117', group=\"2\"),\n",
    "        Rat('R118', group=\"1\"),\n",
    "        Rat('R119', group=\"2\"),\n",
    "        Rat('R120', group=\"1\"),\n",
    "        Rat('R121', group=\"2\"),\n",
    "    ],\n",
    "    magazine_session='!2017-01-17',\n",
    ")\n",
    "\n",
    "\n",
    "def add_datapoints(session, data, rat):\n",
    "\n",
    "    def add_data(cue, trial=None):\n",
    "        if trial is not None:\n",
    "            meta = {\n",
    "                \"cue_type\": cue[:-1],\n",
    "                \"trial_type\": trial[-1],\n",
    "                \"rewarded\": \"rewarded\" if trial[-1] in (\"2\", \"4\") else \"unrewarded\",\n",
    "                \"cue\": cue,\n",
    "            }\n",
    "            trial = data[trial]\n",
    "            cue = data[cue]\n",
    "            session.add_data(rat.rat_id, trial.intersect(cue), meta)\n",
    "        else:\n",
    "            meta = {\n",
    "                \"cue_type\": cue,\n",
    "                \"trial_type\": \"\",\n",
    "                \"rewarded\": \"\",\n",
    "                \"cue\": cue,\n",
    "            }\n",
    "            session.add_data(rat.rat_id, data[cue], meta)\n",
    "\n",
    "    if rat.group == \"1\":\n",
    "        add_data(\"light1\", \"trial1\")\n",
    "        add_data(\"sound2\", \"trial1\")\n",
    "        add_data(\"light1\", \"trial2\")\n",
    "        add_data(\"sound1\", \"trial2\")\n",
    "        add_data(\"light2\", \"trial3\")\n",
    "        add_data(\"sound1\", \"trial3\")\n",
    "        add_data(\"light2\", \"trial4\")\n",
    "        add_data(\"sound2\", \"trial4\")\n",
    "        add_data(\"baseline\")\n",
    "\n",
    "    elif rat.group == \"2\":\n",
    "        add_data(\"light2\", \"trial1\")\n",
    "        add_data(\"sound2\", \"trial1\")\n",
    "        add_data(\"light2\", \"trial2\")\n",
    "        add_data(\"sound1\", \"trial2\")\n",
    "        add_data(\"light1\", \"trial3\")\n",
    "        add_data(\"sound1\", \"trial3\")\n",
    "        add_data(\"light1\", \"trial4\")\n",
    "        add_data(\"sound2\", \"trial4\")\n",
    "        add_data(\"baseline\")\n",
    "\n",
    "\n",
    "expt.add_datapoints = add_datapoints\n",
    "expt.plot_all()"
   ]
  },
  {
   "cell_type": "code",
   "execution_count": null,
   "metadata": {
    "collapsed": false
   },
   "outputs": [],
   "source": [
    "expt.trial_epochs['mags']"
   ]
  },
  {
   "cell_type": "code",
   "execution_count": null,
   "metadata": {
    "collapsed": false
   },
   "outputs": [],
   "source": [
    "expt.trial_epochs[0]."
   ]
  },
  {
   "cell_type": "code",
   "execution_count": null,
   "metadata": {
    "collapsed": false
   },
   "outputs": [],
   "source": [
    "expt.df.head()"
   ]
  },
  {
   "cell_type": "code",
   "execution_count": null,
   "metadata": {
    "collapsed": true
   },
   "outputs": [],
   "source": []
  },
  {
   "cell_type": "code",
   "execution_count": null,
   "metadata": {
    "collapsed": true
   },
   "outputs": [],
   "source": []
  },
  {
   "cell_type": "code",
   "execution_count": null,
   "metadata": {
    "collapsed": false
   },
   "outputs": [],
   "source": [
    "b = [1,3,5,7,9,11,13,15,17,18]\n",
    "len(b)"
   ]
  },
  {
   "cell_type": "code",
   "execution_count": null,
   "metadata": {
    "collapsed": false
   },
   "outputs": [],
   "source": [
    "a = [5, 5, 6, 10, 10, 15, 15, 22, 22, 22, 22, 22]\n",
    "len(a)"
   ]
  },
  {
   "cell_type": "code",
   "execution_count": null,
   "metadata": {
    "collapsed": false
   },
   "outputs": [],
   "source": [
    "import nept\n",
    "mag = nept.Epoch([[1, 5, 8], [3, 7, 10]])"
   ]
  },
  {
   "cell_type": "code",
   "execution_count": null,
   "metadata": {
    "collapsed": false
   },
   "outputs": [],
   "source": [
    "mag.starts"
   ]
  },
  {
   "cell_type": "code",
   "execution_count": null,
   "metadata": {
    "collapsed": false
   },
   "outputs": [],
   "source": [
    "mag.stops"
   ]
  },
  {
   "cell_type": "code",
   "execution_count": null,
   "metadata": {
    "collapsed": false
   },
   "outputs": [],
   "source": [
    "def convert_binary(epoch, binsize, gaussian_std=None):\n",
    "    start = epoch.start\n",
    "    stop = epoch.stop\n",
    "    timeline = np.arange(start, stop+binsize, binsize)\n",
    "    print(timeline)\n",
    "    binary = np.zeros(len(timeline))\n",
    "    for i, val in enumerate(timeline):\n",
    "        if epoch.contains(val):\n",
    "            binary[i] = 1\n",
    "    if gaussian_std is not None:\n",
    "        binary = nept.gaussian_filter(binary, gaussian_std, dt=binsize)\n",
    "    return binary"
   ]
  },
  {
   "cell_type": "code",
   "execution_count": null,
   "metadata": {
    "collapsed": false
   },
   "outputs": [],
   "source": [
    "start = mag.start\n",
    "stop = mag.stop\n",
    "timeline = np.arange(start, stop, 0.5)\n"
   ]
  },
  {
   "cell_type": "code",
   "execution_count": null,
   "metadata": {
    "collapsed": false
   },
   "outputs": [],
   "source": [
    "mags = convert_binary(mag, binsize=0.5, gaussian_std=None)"
   ]
  },
  {
   "cell_type": "code",
   "execution_count": null,
   "metadata": {
    "collapsed": false
   },
   "outputs": [],
   "source": [
    "plt.plot(mags)\n",
    "plt.show()"
   ]
  },
  {
   "cell_type": "code",
   "execution_count": null,
   "metadata": {
    "collapsed": false
   },
   "outputs": [],
   "source": [
    "mags"
   ]
  },
  {
   "cell_type": "code",
   "execution_count": null,
   "metadata": {
    "collapsed": true
   },
   "outputs": [],
   "source": [
    "yy = nept.Epoch([[1, 5, 8], [2, 7, 10]])"
   ]
  },
  {
   "cell_type": "code",
   "execution_count": null,
   "metadata": {
    "collapsed": false
   },
   "outputs": [],
   "source": [
    "def overtime(binary_mags, epoch, binsize=1.):\n",
    "    start = epoch.start\n",
    "    stop = epoch.stop\n",
    "    timeline = np.arange(start, stop, binsize)\n",
    "    new = np.zeros(len(timeline))\n",
    "    for i, time in enumerate(timeline):\n",
    "        if mags[i] == 1:\n",
    "            new[i] == 1\n",
    "    return new"
   ]
  },
  {
   "cell_type": "code",
   "execution_count": null,
   "metadata": {
    "collapsed": false
   },
   "outputs": [],
   "source": [
    "whatamidoing = overtime(mags, yy, binsize=1.)"
   ]
  },
  {
   "cell_type": "code",
   "execution_count": null,
   "metadata": {
    "collapsed": false
   },
   "outputs": [],
   "source": [
    "whatamidoing"
   ]
  },
  {
   "cell_type": "code",
   "execution_count": null,
   "metadata": {
    "collapsed": false
   },
   "outputs": [],
   "source": [
    "plt.plot(whatamidoing)\n",
    "plt.show()"
   ]
  },
  {
   "cell_type": "code",
   "execution_count": null,
   "metadata": {
    "collapsed": true
   },
   "outputs": [],
   "source": []
  },
  {
   "cell_type": "code",
   "execution_count": null,
   "metadata": {
    "collapsed": true
   },
   "outputs": [],
   "source": []
  },
  {
   "cell_type": "code",
   "execution_count": null,
   "metadata": {
    "collapsed": true
   },
   "outputs": [],
   "source": [
    "%matplotlib inline\n",
    "import matplotlib.pyplot as plt\n",
    "\n",
    "import os\n",
    "import numpy as np\n",
    "import pandas as pd\n",
    "import seaborn as sns\n",
    "\n",
    "import nept\n",
    "\n",
    "from plotting import add_col\n",
    "\n",
    "import measurements as m\n",
    "from core import Experiment, Rat, TrialEpoch"
   ]
  },
  {
   "cell_type": "code",
   "execution_count": null,
   "metadata": {
    "collapsed": false
   },
   "outputs": [],
   "source": [
    "binned_expt = Experiment(\n",
    "    name=\"201709\",\n",
    "    cache_key=\"binned\",\n",
    "    trial_epochs=[\n",
    "        TrialEpoch(\"mags\", start_idx=1, stop_idx=2),\n",
    "        TrialEpoch(\"light1\", start_idx=4, stop_idx=5),\n",
    "        TrialEpoch(\"light2\", start_idx=6, stop_idx=7),\n",
    "    ],\n",
    "    measurements=[m.Duration()],\n",
    "    rats=[\n",
    "        Rat('R155', group=\"1\"),\n",
    "        Rat('R156', group=\"2\"),\n",
    "        Rat('R157', group=\"2\"),\n",
    "        Rat('R158', group=\"1\"),\n",
    "        Rat('R159', group=\"2\"),\n",
    "        Rat('R160', group=\"1\"),\n",
    "        Rat('R161', group=\"1\"),\n",
    "        Rat('R162', group=\"2\"),\n",
    "    ],\n",
    "    magazine_session='!2017-09-20',\n",
    "    sessionfiles=['!2017-09-21']\n",
    ")\n",
    "\n",
    "\n",
    "def add_datapoints(session, data, rat):\n",
    "    session.add_binned_data(rat.rat_id, data[\"light1\"], binsize=5, info={'cue': 'light1'})\n",
    "    session.add_binned_data(rat.rat_id, data[\"light2\"], binsize=5, info={'cue': 'light2'})\n",
    "\n",
    "binned_expt.add_datapoints = add_datapoints\n",
    "# df = binned_expt.analyze()"
   ]
  },
  {
   "cell_type": "code",
   "execution_count": null,
   "metadata": {
    "collapsed": false
   },
   "outputs": [],
   "source": [
    "binned_df = binned_expt.analyze()\n",
    "binned_df = binned_df.drop(binned_df.loc[(binned_df.duration == 155) & \n",
    "                                         (binned_df.time_start == 150)].index)\n",
    "binned_df = binned_df.drop(binned_df.loc[(binned_df.duration == 245) & \n",
    "                                         (binned_df.time_start == 240)].index)\n",
    "binned_df = binned_df.drop(binned_df.loc[(binned_df.duration == 275) & \n",
    "                                         (binned_df.time_start == 270)].index)"
   ]
  },
  {
   "cell_type": "code",
   "execution_count": null,
   "metadata": {
    "collapsed": true
   },
   "outputs": [],
   "source": [
    "binned_df.loc[binned_df.duration == 155, 'duration'] = 150\n",
    "binned_df.loc[binned_df.duration == 245, 'duration'] = 240\n",
    "binned_df.loc[binned_df.duration == 275, 'duration'] = 270"
   ]
  },
  {
   "cell_type": "code",
   "execution_count": null,
   "metadata": {
    "collapsed": false
   },
   "outputs": [],
   "source": [
    "def plot_overtime(df, rats, filepath=None):\n",
    "\n",
    "    rat_idx = np.zeros(len(df), dtype=bool)\n",
    "    for rat in rats:\n",
    "        rat_idx = rat_idx | (df['rat'] == rat.rat_id)\n",
    "    rats_df = df[rat_idx]\n",
    "\n",
    "    df = add_col(df, \"unit\", \"rat\", \"trial\")\n",
    "    g = sns.FacetGrid(data=df, col=\"duration\", sharey=False, size=3, aspect=1.)\n",
    "    g.map_dataframe(sns.tsplot, time=\"time_start\", unit=\"unit\", condition=\"cue\", value=\"value\",\n",
    "                    err_style=\"ci_band\", ci=68, color=\"deep\")\n",
    "    \n",
    "    for ax in g.axes[0]:\n",
    "        ax.set_ylabel(\"Duration in food cup (s)\")\n",
    "\n",
    "    plt.tight_layout()\n",
    "    handles, labels = ax.get_legend_handles_labels()\n",
    "    sortedhl = sorted(zip(handles, labels), key=lambda x: x[1])\n",
    "    plt.legend(*zip(*sortedhl), bbox_to_anchor=(1., 1.))\n",
    "\n",
    "    plt.tight_layout()\n",
    "    if filepath is not None:\n",
    "        mkdirs(os.path.dirname(filepath))\n",
    "        plt.savefig(filepath, bbox_inches='tight')\n",
    "        plt.close()\n",
    "    else:\n",
    "        plt.show()"
   ]
  },
  {
   "cell_type": "code",
   "execution_count": null,
   "metadata": {
    "collapsed": false
   },
   "outputs": [],
   "source": [
    "plot_overtime(binned_df, rats=binned_expt.rats)"
   ]
  },
  {
   "cell_type": "code",
   "execution_count": null,
   "metadata": {
    "collapsed": true
   },
   "outputs": [],
   "source": []
  },
  {
   "cell_type": "code",
   "execution_count": null,
   "metadata": {
    "collapsed": false
   },
   "outputs": [],
   "source": [
    "df.duration.unique()"
   ]
  },
  {
   "cell_type": "code",
   "execution_count": null,
   "metadata": {
    "collapsed": false
   },
   "outputs": [],
   "source": [
    "df[(df.duration==155) & (df.time_start == 150)]"
   ]
  },
  {
   "cell_type": "code",
   "execution_count": null,
   "metadata": {
    "collapsed": true
   },
   "outputs": [],
   "source": []
  },
  {
   "cell_type": "code",
   "execution_count": null,
   "metadata": {
    "collapsed": true
   },
   "outputs": [],
   "source": []
  },
  {
   "cell_type": "code",
   "execution_count": null,
   "metadata": {
    "collapsed": true
   },
   "outputs": [],
   "source": [
    "maps = list(sorted(m for m in plt.cm.datad if not m.endswith(\"_r\")))"
   ]
  },
  {
   "cell_type": "code",
   "execution_count": null,
   "metadata": {
    "collapsed": false
   },
   "outputs": [],
   "source": [
    "plt.get_cmap('tab20')"
   ]
  },
  {
   "cell_type": "code",
   "execution_count": null,
   "metadata": {
    "collapsed": true
   },
   "outputs": [],
   "source": [
    "_tab20_data = (\n",
    "\t(0.12156862745098039, 0.4666666666666667,  0.7058823529411765  ),  # 1f77b4\n",
    "\t(0.6823529411764706,  0.7803921568627451,  0.9098039215686274  ),  # aec7e8\n",
    "\t(1.0,                 0.4980392156862745,  0.054901960784313725),  # ff7f0e\n",
    "\t(1.0,                 0.7333333333333333,  0.47058823529411764 ),  # ffbb78\n",
    "\t(0.17254901960784313, 0.6274509803921569,  0.17254901960784313 ),  # 2ca02c\n",
    "\t(0.596078431372549,   0.8745098039215686,  0.5411764705882353  ),  # 98df8a\n",
    "\t(0.8392156862745098,  0.15294117647058825, 0.1568627450980392  ),  # d62728\n",
    "\t(1.0,                 0.596078431372549,   0.5882352941176471  ),  # ff9896\n",
    "\t(0.5803921568627451,  0.403921568627451,   0.7411764705882353  ),  # 9467bd\n",
    "\t(0.7725490196078432,  0.6901960784313725,  0.8352941176470589  ),  # c5b0d5\n",
    "\t(0.5490196078431373,  0.33725490196078434, 0.29411764705882354 ),  # 8c564b\n",
    "\t(0.7686274509803922,  0.611764705882353,   0.5803921568627451  ),  # c49c94\n",
    "\t(0.8901960784313725,  0.4666666666666667,  0.7607843137254902  ),  # e377c2\n",
    "\t(0.9686274509803922,  0.7137254901960784,  0.8235294117647058  ),  # f7b6d2\n",
    "\t(0.4980392156862745,  0.4980392156862745,  0.4980392156862745  ),  # 7f7f7f\n",
    "\t(0.7803921568627451,  0.7803921568627451,  0.7803921568627451  ),  # c7c7c7\n",
    "\t(0.7372549019607844,  0.7411764705882353,  0.13333333333333333 ),  # bcbd22\n",
    "\t(0.8588235294117647,  0.8588235294117647,  0.5529411764705883  ),  # dbdb8d\n",
    "\t(0.09019607843137255, 0.7450980392156863,  0.8117647058823529  ),  # 17becf\n",
    "\t(0.6196078431372549,  0.8549019607843137,  0.8980392156862745),    # 9edae5\n",
    ")\n",
    "\n",
    "plt.cm.datad['tab20'] = {'listed': _tab20_data}"
   ]
  },
  {
   "cell_type": "code",
   "execution_count": null,
   "metadata": {
    "collapsed": true
   },
   "outputs": [],
   "source": []
  }
 ],
 "metadata": {
  "kernelspec": {
   "display_name": "Python 3",
   "language": "python",
   "name": "python3"
  },
  "language_info": {
   "codemirror_mode": {
    "name": "ipython",
    "version": 3
   },
   "file_extension": ".py",
   "mimetype": "text/x-python",
   "name": "python",
   "nbconvert_exporter": "python",
   "pygments_lexer": "ipython3",
   "version": "3.4.5"
  },
  "toc": {
   "colors": {
    "hover_highlight": "#DAA520",
    "running_highlight": "#FF0000",
    "selected_highlight": "#FFD700"
   },
   "moveMenuLeft": true,
   "nav_menu": {
    "height": "12px",
    "width": "252px"
   },
   "navigate_menu": true,
   "number_sections": true,
   "sideBar": true,
   "threshold": 4,
   "toc_cell": false,
   "toc_section_display": "block",
   "toc_window_display": false
  }
 },
 "nbformat": 4,
 "nbformat_minor": 0
}
