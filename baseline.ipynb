{
 "cells": [
  {
   "cell_type": "code",
   "execution_count": null,
   "metadata": {
    "ExecuteTime": {
     "end_time": "2017-04-20T17:32:20.297641",
     "start_time": "2017-04-20T17:32:19.253880"
    },
    "collapsed": true
   },
   "outputs": [],
   "source": [
    "%matplotlib.inline\n",
    "import matplotlib.pyplot as plt\n",
    "\n",
    "import numpy as np\n",
    "import pandas as pd\n",
    "\n",
    "import os\n",
    "import nept\n",
    "from core import Rat, combine_rats\n",
    "from load_data import assign_label\n",
    "from plotting import plot_behavior, plot_duration"
   ]
  },
  {
   "cell_type": "code",
   "execution_count": null,
   "metadata": {
    "ExecuteTime": {
     "end_time": "2017-04-20T17:32:20.320135",
     "start_time": "2017-04-20T17:32:20.316648"
    },
    "collapsed": true
   },
   "outputs": [],
   "source": [
    "thisdir = 'E:\\code\\emi_biconditional'\n",
    "data_filepath = os.path.join(thisdir, 'cache', 'data', 'spring2017')\n",
    "output_filepath = os.path.join(thisdir, 'plots', 'spring2017')"
   ]
  },
  {
   "cell_type": "code",
   "execution_count": null,
   "metadata": {
    "ExecuteTime": {
     "end_time": "2017-04-20T17:32:20.642380",
     "start_time": "2017-04-20T17:32:20.634891"
    },
    "collapsed": true
   },
   "outputs": [],
   "source": [
    "magazine_session = '!2017-04-14'\n",
    "\n",
    "sessions = []\n",
    "for file in sorted(os.listdir(data_filepath)):\n",
    "    if file != magazine_session and file[0] == '!':\n",
    "        sessions.append(os.path.join(data_filepath, file))\n",
    "        \n",
    "rats = ['R141', 'R142', 'R143', 'R144', 'R145', 'R146', 'R147', 'R148']\n",
    "groups = [1, 2, 2, 1, 2, 1, 1, 2]\n",
    "males = ['R141', 'R143', 'R145', 'R147']\n",
    "females = ['R142', 'R144', 'R146', 'R148']\n",
    "group1 = ['R141', 'R144', 'R146', 'R147']\n",
    "group2 = ['R142', 'R143', 'R145', 'R148']"
   ]
  },
  {
   "cell_type": "code",
   "execution_count": null,
   "metadata": {
    "ExecuteTime": {
     "end_time": "2017-04-20T17:32:56.276907",
     "start_time": "2017-04-20T17:32:21.935725"
    },
    "collapsed": false
   },
   "outputs": [],
   "source": [
    "cue_duration = 10\n",
    "\n",
    "data = dict()\n",
    "for rat in rats:\n",
    "    data[rat] = Rat(rat, group1, group2)\n",
    "\n",
    "for session in sessions:\n",
    "    rats_data = nept.load_medpc(os.path.join(data_filepath, session), assign_label)\n",
    "    \n",
    "    for rat in rats:\n",
    "        iti_starts = []\n",
    "        iti_stops = []\n",
    "        for trial in ['trial1', 'trial2', 'trial3', 'trial4']:\n",
    "            iti_starts.extend(rats_data[rat][trial].starts - cue_duration)\n",
    "            iti_stops.extend(rats_data[rat][trial].starts)\n",
    "        rats_data[rat]['iti'] = nept.Epoch(np.vstack([iti_starts, iti_stops]))\n",
    "            \n",
    "    for rat, group in zip(rats, groups):\n",
    "        data[rat].add_session(**rats_data[rat], group=group)\n",
    "\n",
    "n_sessions = len(data[rats[0]].sessions)\n",
    "\n",
    "df = combine_rats(data, rats, n_sessions)"
   ]
  },
  {
   "cell_type": "code",
   "execution_count": null,
   "metadata": {
    "ExecuteTime": {
     "end_time": "2017-04-20T17:32:57.143061",
     "start_time": "2017-04-20T17:32:56.278409"
    },
    "collapsed": false
   },
   "outputs": [],
   "source": [
    "plot_duration(df, ['R142'], filepath='E:/code/emi_biconditional/plots/zzz.png', by_outcome=True)"
   ]
  },
  {
   "cell_type": "code",
   "execution_count": null,
   "metadata": {
    "ExecuteTime": {
     "start_time": "2017-04-20T21:32:01.884Z"
    },
    "collapsed": false
   },
   "outputs": [],
   "source": [
    "df.tail()"
   ]
  },
  {
   "cell_type": "code",
   "execution_count": null,
   "metadata": {
    "collapsed": true
   },
   "outputs": [],
   "source": []
  }
 ],
 "metadata": {
  "kernelspec": {
   "display_name": "Python 3",
   "language": "python",
   "name": "python3"
  },
  "language_info": {
   "codemirror_mode": {
    "name": "ipython",
    "version": 3
   },
   "file_extension": ".py",
   "mimetype": "text/x-python",
   "name": "python",
   "nbconvert_exporter": "python",
   "pygments_lexer": "ipython3",
   "version": "3.5.2"
  },
  "toc": {
   "colors": {
    "hover_highlight": "#DAA520",
    "running_highlight": "#FF0000",
    "selected_highlight": "#FFD700"
   },
   "moveMenuLeft": true,
   "nav_menu": {
    "height": "12px",
    "width": "252px"
   },
   "navigate_menu": true,
   "number_sections": true,
   "sideBar": true,
   "threshold": 4,
   "toc_cell": false,
   "toc_section_display": "block",
   "toc_window_display": false
  }
 },
 "nbformat": 4,
 "nbformat_minor": 0
}
