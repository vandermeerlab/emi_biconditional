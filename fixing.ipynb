{
 "cells": [
  {
   "cell_type": "code",
   "execution_count": null,
   "metadata": {
    "ExecuteTime": {
     "end_time": "2017-05-02T14:23:36.093543",
     "start_time": "2017-05-02T14:23:35.149699"
    },
    "collapsed": true
   },
   "outputs": [],
   "source": [
    "%matplotlib inline\n",
    "import matplotlib.pyplot as plt\n",
    "import os\n",
    "import numpy as np\n",
    "import pandas as pd\n",
    "import seaborn as sns\n",
    "\n",
    "import nept\n",
    "from core import Rat, combine_rats\n",
    "from load_data import assign_label, load_biconditional_events_general, vdm_assign_label"
   ]
  },
  {
   "cell_type": "code",
   "execution_count": null,
   "metadata": {
    "ExecuteTime": {
     "end_time": "2017-05-02T14:24:33.000427",
     "start_time": "2017-05-02T14:24:32.997424"
    },
    "collapsed": true
   },
   "outputs": [],
   "source": [
    "filename = 'E:/code/emi_biconditional/cache/data/spring2017/!2017-05-02'"
   ]
  },
  {
   "cell_type": "code",
   "execution_count": null,
   "metadata": {
    "ExecuteTime": {
     "end_time": "2017-05-02T14:24:20.985182",
     "start_time": "2017-05-02T14:24:20.979678"
    },
    "collapsed": true
   },
   "outputs": [],
   "source": [
    "rats = ['R141', 'R142', 'R143', 'R144', 'R145', 'R146', 'R147', 'R148']\n",
    "\n",
    "groups = [1, 2, 2, 1, 2, 1, 1, 2]\n",
    "\n",
    "males = ['R141', 'R143', 'R145', 'R147']\n",
    "females = ['R142', 'R144', 'R146', 'R148']\n",
    "group1 = ['R141', 'R144', 'R146', 'R147']\n",
    "group2 = ['R142', 'R143', 'R145', 'R148']"
   ]
  },
  {
   "cell_type": "code",
   "execution_count": null,
   "metadata": {
    "collapsed": true
   },
   "outputs": [],
   "source": [
    "rat = 'R142'"
   ]
  },
  {
   "cell_type": "code",
   "execution_count": null,
   "metadata": {
    "ExecuteTime": {
     "end_time": "2017-05-02T14:24:35.008595",
     "start_time": "2017-05-02T14:24:34.949035"
    },
    "collapsed": false
   },
   "outputs": [],
   "source": [
    "data = dict()\n",
    "for rat in rats:\n",
    "    data[rat] = Rat(rat, group1, group2)\n",
    "\n",
    "rats_data = nept.load_medpc(filename, assign_label)"
   ]
  },
  {
   "cell_type": "code",
   "execution_count": null,
   "metadata": {
    "ExecuteTime": {
     "end_time": "2017-05-02T14:30:05.833127",
     "start_time": "2017-05-02T14:30:05.739559"
    },
    "collapsed": true
   },
   "outputs": [],
   "source": [
    "def read_file(filename):\n",
    "    \"\"\"Reads the contents of a ``*.mpc`` file\n",
    "\n",
    "    Parameters\n",
    "    ----------\n",
    "    filename: str\n",
    "\n",
    "    Returns\n",
    "    -------\n",
    "    contents: list\n",
    "\n",
    "    \"\"\"\n",
    "    contents = []\n",
    "    temp = []\n",
    "\n",
    "    file = open(filename, 'r')\n",
    "    lines = file.readlines()\n",
    "\n",
    "    for line in lines:\n",
    "        if line != '\\n':\n",
    "            temp.append(line)\n",
    "        else:\n",
    "            if len(temp) > 0:\n",
    "                contents.append(temp)\n",
    "                temp = []\n",
    "\n",
    "    if len(temp) > 0:\n",
    "        contents.append(temp)  # appends the last subject\n",
    "\n",
    "    for i, content in enumerate(contents):\n",
    "        contents[i] = ' '.join(content)\n",
    "\n",
    "    file.close()\n",
    "\n",
    "    return contents\n",
    "\n",
    "\n",
    "def get_data(contents):\n",
    "    \"\"\"Extracts content from a ``*.mpc`` file\n",
    "\n",
    "    Parameters\n",
    "    ----------\n",
    "    contents: list\n",
    "\n",
    "    Returns\n",
    "    -------\n",
    "    header: dict\n",
    "    data: dict\n",
    "\n",
    "    \"\"\"\n",
    "\n",
    "    header = {}\n",
    "    copy = contents.split('\\n')\n",
    "\n",
    "    header_contents = dict(start_date='Start Date',\n",
    "                           end_date=' End Date',\n",
    "                           subject=' Subject',\n",
    "                           experiment=' Experiment',\n",
    "                           group=' Group',\n",
    "                           box=' Box',\n",
    "                           start_time=' Start Time',\n",
    "                           end_time=' End Time',\n",
    "                           program=' Program',\n",
    "                           msn=' MSN')\n",
    "\n",
    "    for line in copy:\n",
    "        for key in header_contents:\n",
    "            heading = line.split(':')\n",
    "            if heading[0] == header_contents[key]:\n",
    "                if key == 'start_time' or key == 'end_time':\n",
    "                    header[key] = heading[1].lstrip() + ':' + heading[2] + ':' + heading[3]\n",
    "                else:\n",
    "                    header[key] = heading[1].lstrip()\n",
    "\n",
    "    data = {}\n",
    "    copy = contents.split()\n",
    "\n",
    "    uppercase = string.ascii_uppercase\n",
    "\n",
    "    idx = []\n",
    "    for i, val in enumerate(copy):\n",
    "        if val[0] in uppercase and val[1] == ':':\n",
    "            idx.append(i)\n",
    "\n",
    "    for i, j in zip(idx[:-1], idx[1:]):\n",
    "        data[copy[i].lower()[0]] = [timestamp for timestamp in copy[i+1:j] if timestamp[-1] != ':']\n",
    "\n",
    "    return header, data\n",
    "\n",
    "\n",
    "def get_events(event_list):\n",
    "    \"\"\"Finds timestamps associated with each event.\n",
    "\n",
    "    Parameters\n",
    "    ----------\n",
    "    event_list : list\n",
    "\n",
    "    Returns\n",
    "    -------\n",
    "    events : dict\n",
    "        With event type as key, timestamps as values.\n",
    "\n",
    "    \"\"\"\n",
    "    float_events = [float(event) for event in event_list]\n",
    "    active_events = [event for event in float_events if (event > 0.0)]\n",
    "\n",
    "    events = defaultdict(list)\n",
    "\n",
    "    for event in active_events:\n",
    "        events[int(np.floor(event/10000))].append(event % 10000)\n",
    "\n",
    "    return events\n",
    "\n",
    "\n",
    "def get_subject(subject_content, data_key='b'):\n",
    "    \"\"\"Gets header and data from MedPC file for a single subject.\n",
    "\n",
    "    Parameters\n",
    "    ----------\n",
    "    subject_content: str\n",
    "    data_key: str\n",
    "        Default set to 'b'\n",
    "\n",
    "    Returns\n",
    "    -------\n",
    "    header: dict\n",
    "    data: list\n",
    "\n",
    "    \"\"\"\n",
    "    (header, data) = get_data(subject_content)\n",
    "    data = get_events(data[data_key])\n",
    "\n",
    "    return header, data\n",
    "\n",
    "import string\n",
    "from collections import defaultdict"
   ]
  },
  {
   "cell_type": "code",
   "execution_count": null,
   "metadata": {
    "ExecuteTime": {
     "end_time": "2017-05-02T14:32:56.643284",
     "start_time": "2017-05-02T14:32:56.635278"
    },
    "collapsed": false
   },
   "outputs": [],
   "source": [
    "def load_medpc(filename, f_assign_label):\n",
    "    \"\"\"Loads MedPC data file.\n",
    "\n",
    "    Parameters\n",
    "    ----------\n",
    "    filename: MedPC file\n",
    "    f_assign_label: module\n",
    "\n",
    "    Returns\n",
    "    -------\n",
    "    rats_data: dict\n",
    "        With each subject as keys. Contains dict of event as nept.Epochs.\n",
    "\n",
    "    \"\"\"\n",
    "    contents = read_file(filename)\n",
    "    contents = contents[1:]\n",
    "\n",
    "    rats_data = {}\n",
    "\n",
    "    for content in contents:\n",
    "        (header, data) = get_subject(content)\n",
    "        print(data.keys())\n",
    "        rats_data[header['subject']] = f_assign_label(data)\n",
    "\n",
    "    return rats_data"
   ]
  },
  {
   "cell_type": "code",
   "execution_count": null,
   "metadata": {
    "ExecuteTime": {
     "end_time": "2017-05-02T14:32:58.235543",
     "start_time": "2017-05-02T14:32:58.174999"
    },
    "collapsed": false
   },
   "outputs": [],
   "source": [
    "data = dict()\n",
    "for rat in rats:\n",
    "    data[rat] = Rat(rat, group1, group2)\n",
    "\n",
    "rats_data = load_medpc(filename, assign_label)"
   ]
  },
  {
   "cell_type": "code",
   "execution_count": null,
   "metadata": {
    "collapsed": true
   },
   "outputs": [],
   "source": []
  }
 ],
 "metadata": {
  "kernelspec": {
   "display_name": "Python 3",
   "language": "python",
   "name": "python3"
  },
  "language_info": {
   "codemirror_mode": {
    "name": "ipython",
    "version": 3
   },
   "file_extension": ".py",
   "mimetype": "text/x-python",
   "name": "python",
   "nbconvert_exporter": "python",
   "pygments_lexer": "ipython3",
   "version": "3.5.2"
  },
  "toc": {
   "colors": {
    "hover_highlight": "#DAA520",
    "running_highlight": "#FF0000",
    "selected_highlight": "#FFD700"
   },
   "moveMenuLeft": true,
   "nav_menu": {
    "height": "12px",
    "width": "252px"
   },
   "navigate_menu": true,
   "number_sections": true,
   "sideBar": true,
   "threshold": 4,
   "toc_cell": false,
   "toc_section_display": "block",
   "toc_window_display": false
  }
 },
 "nbformat": 4,
 "nbformat_minor": 0
}
