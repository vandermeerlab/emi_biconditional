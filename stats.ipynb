{
 "cells": [
  {
   "cell_type": "code",
   "execution_count": null,
   "metadata": {
    "collapsed": false
   },
   "outputs": [],
   "source": [
    "%matplotlib inline\n",
    "%load_ext rpy2.ipython\n",
    "import vdmlab as vdm\n",
    "import os\n",
    "import numpy as np\n",
    "import pandas as pd\n",
    "import seaborn as sns\n",
    "import matplotlib.pyplot as plt\n",
    "\n",
    "from load_data import assign_label, load_biconditional_events_general, vdm_assign_label\n",
    "from core import Rat, combine_rats\n",
    "from plotting import plot_behavior\n",
    "\n",
    "from rpy2 import robjects as ro\n",
    "from rpy2.robjects import pandas2ri\n",
    "from rpy2.robjects.packages import importr"
   ]
  },
  {
   "cell_type": "code",
   "execution_count": null,
   "metadata": {
    "collapsed": false
   },
   "outputs": [],
   "source": [
    "pandas2ri.activate()\n",
    "lme4 = importr('lme4')\n",
    "car = importr('car')\n",
    "lmerTest = importr('lmerTest')"
   ]
  },
  {
   "cell_type": "code",
   "execution_count": null,
   "metadata": {
    "collapsed": true
   },
   "outputs": [],
   "source": [
    "def evaluate_training(learning_df):\n",
    "    ro.globalenv['rlearn'] = pandas2ri.py2ri(learning_df)\n",
    "    ro.r(\"\"\"rlearn <- within(rlearn, {\n",
    "      trial <- factor(trial_type)\n",
    "      rewarded <- factor(rewarded)\n",
    "      measure <- factor(measure)\n",
    "      value <- as.numeric(value)})\"\"\")\n",
    "\n",
    "    ro.r(\"contrasts(rlearn$trial) <- c(3, 1, -1, -3)\")\n",
    "    ro.r(\"contrasts(rlearn$rewarded) <- c(1, -1)\")\n",
    "\n",
    "    ro.r(\"lmm <- lmer(value ~ rewarded * session + (1|measure), data=rlearn, REML=FALSE)\")\n",
    "    anova = ro.r(\"print(Anova(lmm,type=3))\")\n",
    "    summary = ro.r(\"print(summary(lmm))\")\n",
    "    return anova, summary"
   ]
  },
  {
   "cell_type": "code",
   "execution_count": null,
   "metadata": {
    "collapsed": true
   },
   "outputs": [],
   "source": [
    "# home = os.path.expanduser(\"~\")\n",
    "# root = os.path.join(home, 'code', 'emi_biconditional')\n",
    "# data_filepath = os.path.join(root, 'cache', 'data')\n",
    "\n",
    "data_filepath = os.path.join('E:\\\\', 'code', 'emi_biconditional', 'cache', 'data', 'winter2017')"
   ]
  },
  {
   "cell_type": "code",
   "execution_count": null,
   "metadata": {
    "collapsed": true
   },
   "outputs": [],
   "source": [
    "rats = ['R120', 'R121', 'R118', 'R119', 'R116', 'R117', 'R114']\n",
    "\n",
    "groups = [1, 2, 1, 2, 1, 2, 1]\n",
    "\n",
    "group1 = ['R120', 'R118', 'R116', 'R114']\n",
    "group2 = ['R121', 'R119', 'R117']\n",
    "\n",
    "# this_rat = 'R119'\n",
    "\n",
    "# filename = os.path.join(data_filepath, '!' + session_id)\n",
    "\n",
    "magazine_session = '!2017-01-17'\n",
    "\n",
    "sessions = []\n",
    "for file in sorted(os.listdir(data_filepath)):\n",
    "    if file != magazine_session and file[0] == '!':\n",
    "        sessions.append(os.path.join(data_filepath, file))\n",
    "\n",
    "data = dict()\n",
    "for rat in rats:\n",
    "    data[rat] = Rat(rat, group1, group2)\n",
    "\n",
    "for session in sessions:\n",
    "    rats_data = vdm.load_medpc(os.path.join(data_filepath, session), assign_label)\n",
    "\n",
    "    for rat, group in zip(rats, groups):\n",
    "        data[rat].add_session(**rats_data[rat], group=group)\n",
    "\n",
    "n_sessions = len(data[rats[0]].sessions)\n",
    "\n",
    "df = combine_rats(data, rats, n_sessions)"
   ]
  },
  {
   "cell_type": "code",
   "execution_count": null,
   "metadata": {
    "collapsed": false
   },
   "outputs": [],
   "source": [
    "df.head()"
   ]
  },
  {
   "cell_type": "code",
   "execution_count": null,
   "metadata": {
    "collapsed": true
   },
   "outputs": [],
   "source": [
    "this_rat = 'R119'"
   ]
  },
  {
   "cell_type": "code",
   "execution_count": null,
   "metadata": {
    "collapsed": false
   },
   "outputs": [],
   "source": [
    "stats_df = df[df['cue'] == 'sound']\n",
    "stats_df = stats_df[stats_df['rat'] == this_rat]\n",
    "stats_df.head()"
   ]
  },
  {
   "cell_type": "code",
   "execution_count": null,
   "metadata": {
    "collapsed": false
   },
   "outputs": [],
   "source": [
    "anova, summary = evaluate_training(stats_df)"
   ]
  },
  {
   "cell_type": "code",
   "execution_count": null,
   "metadata": {
    "collapsed": false
   },
   "outputs": [],
   "source": [
    "anova"
   ]
  },
  {
   "cell_type": "code",
   "execution_count": null,
   "metadata": {
    "collapsed": false
   },
   "outputs": [],
   "source": [
    "summary"
   ]
  },
  {
   "cell_type": "code",
   "execution_count": null,
   "metadata": {
    "collapsed": true
   },
   "outputs": [],
   "source": []
  }
 ],
 "metadata": {
  "kernelspec": {
   "display_name": "Python 3",
   "language": "python",
   "name": "python3"
  },
  "language_info": {
   "codemirror_mode": {
    "name": "ipython",
    "version": 3
   },
   "file_extension": ".py",
   "mimetype": "text/x-python",
   "name": "python",
   "nbconvert_exporter": "python",
   "pygments_lexer": "ipython3",
   "version": "3.5.2"
  }
 },
 "nbformat": 4,
 "nbformat_minor": 0
}
