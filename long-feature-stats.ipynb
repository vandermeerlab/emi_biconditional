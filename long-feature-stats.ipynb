{
 "cells": [
  {
   "cell_type": "code",
   "execution_count": null,
   "metadata": {
    "collapsed": true
   },
   "outputs": [],
   "source": [
    "import os\n",
    "from scipy.stats import ttest_ind\n",
    "import measurements as m\n",
    "from core import Experiment, Rat, TrialEpoch\n",
    "from plotting import plot_overtime"
   ]
  },
  {
   "cell_type": "code",
   "execution_count": null,
   "metadata": {},
   "outputs": [],
   "source": [
    "epoch_expt = Experiment(\n",
    "    name=\"201709\",\n",
    "    cache_key=\"epoch\",\n",
    "    trial_epochs=[\n",
    "        TrialEpoch(\"mags\", start_idx=1, stop_idx=2),\n",
    "        TrialEpoch(\"light1end\", start_idx=5, duration=-10),\n",
    "        TrialEpoch(\"light2end\", start_idx=7, duration=-10),\n",
    "        TrialEpoch(\"sound1\", start_idx=8, stop_idx=9),\n",
    "        TrialEpoch(\"trial1\", start_idx=12, stop_idx=13),\n",
    "        TrialEpoch(\"trial2\", start_idx=14, stop_idx=15),\n",
    "        TrialEpoch(\"light1\", start_idx=4, stop_idx=5),\n",
    "        TrialEpoch(\"light2\", start_idx=6, stop_idx=7),\n",
    "        TrialEpoch(\"baseline\", start_idx=4, duration=-10),\n",
    "        TrialEpoch(\"baseline\", start_idx=6, duration=-10),\n",
    "    ],\n",
    "    measurements=[m.Duration(), m.Count(), m.Latency(), m.AtLeastOne()],\n",
    "    rats=[\n",
    "#         Rat('R155', group=\"1\", gender=\"male\"),\n",
    "#         Rat('R156', group=\"2\", gender=\"female\"),\n",
    "#         Rat('R157', group=\"2\", gender=\"male\"),\n",
    "#         Rat('R158', group=\"1\", gender=\"female\"),\n",
    "#         Rat('R159', group=\"2\", gender=\"male\"),\n",
    "#         Rat('R160', group=\"1\", gender=\"female\"),\n",
    "        Rat('R161', group=\"1\", gender=\"male\"),\n",
    "#         Rat('R162', group=\"2\", gender=\"female\"),\n",
    "    ],\n",
    "    magazine_session='!2017-09-20',\n",
    "    sessionfiles=['!2017-10-04', '!2017-10-05', '!2017-10-06']\n",
    ")\n",
    "\n",
    "\n",
    "def add_datapoints(session, data, rat):\n",
    "\n",
    "    def add_data(cue, trial=None):\n",
    "        if trial is not None:\n",
    "            meta = {\n",
    "                \"cue_type\": cue[:5],\n",
    "                \"trial_type\": trial[-1],\n",
    "                \"rewarded\": \"rewarded\" if trial == \"trial2\" else \"unrewarded\",\n",
    "                \"cue\": cue,\n",
    "            }\n",
    "            trial = data[trial]\n",
    "            cue = data[cue]\n",
    "            session.add_epoch_data(rat.rat_id, trial.intersect(cue), meta)\n",
    "        else:\n",
    "            meta = {\n",
    "                \"cue_type\": cue,\n",
    "                \"trial_type\": \"\",\n",
    "                \"rewarded\": \"\",\n",
    "                \"cue\": cue,\n",
    "            }\n",
    "            session.add_epoch_data(rat.rat_id, data[cue], meta)\n",
    "\n",
    "    if rat.group == \"1\":\n",
    "        add_data(\"light1end\", \"trial1\")\n",
    "        add_data(\"light2end\", \"trial2\")\n",
    "        add_data(\"sound1\", \"trial1\")\n",
    "        add_data(\"sound1\", \"trial2\")\n",
    "        add_data(\"baseline\")\n",
    "\n",
    "    elif rat.group == \"2\":\n",
    "        add_data(\"light2end\", \"trial1\")\n",
    "        add_data(\"light1end\", \"trial2\")\n",
    "        add_data(\"sound1\", \"trial1\")\n",
    "        add_data(\"sound1\", \"trial2\")\n",
    "        add_data(\"baseline\")\n",
    "\n",
    "\n",
    "epoch_expt.add_datapoints = add_datapoints\n",
    "df = epoch_expt.analyze(cached_data=False)"
   ]
  },
  {
   "cell_type": "code",
   "execution_count": null,
   "metadata": {
    "collapsed": true
   },
   "outputs": [],
   "source": [
    "duration_df = df[df[\"measure\"] == \"Duration\"]\n",
    "duration_sound_df = duration_df[duration_df[\"cue\"]==\"sound1\"]\n",
    "duration_light_df = duration_df[duration_df[\"cue_type\"]==\"light\"]"
   ]
  },
  {
   "cell_type": "code",
   "execution_count": null,
   "metadata": {
    "collapsed": true
   },
   "outputs": [],
   "source": [
    "count_df = df[df[\"measure\"] == \"Count\"]\n",
    "count_sound_df = count_df[count_df[\"cue\"]==\"sound1\"]\n",
    "count_light_df = count_df[count_df[\"cue_type\"]==\"light\"]"
   ]
  },
  {
   "cell_type": "code",
   "execution_count": null,
   "metadata": {
    "collapsed": true
   },
   "outputs": [],
   "source": [
    "latency_df = df[df[\"measure\"] == \"Latency\"]\n",
    "latency_sound_df = latency_df[latency_df[\"cue\"]==\"sound1\"]"
   ]
  },
  {
   "cell_type": "code",
   "execution_count": null,
   "metadata": {
    "collapsed": true
   },
   "outputs": [],
   "source": [
    "response_df = df[df[\"measure\"] == \"AtLeastOne\"]\n",
    "response_sound_df = response_df[response_df[\"cue\"]==\"sound1\"]"
   ]
  },
  {
   "cell_type": "code",
   "execution_count": null,
   "metadata": {},
   "outputs": [],
   "source": [
    "# Duration t-test\n",
    "cat1 = duration_sound_df[duration_sound_df['rewarded']=='rewarded']\n",
    "cat2 = duration_sound_df[duration_sound_df['rewarded']=='unrewarded']\n",
    "\n",
    "ttest_ind(cat1['value'], cat2['value'])"
   ]
  },
  {
   "cell_type": "code",
   "execution_count": null,
   "metadata": {},
   "outputs": [],
   "source": [
    "cat1 = duration_light_df[duration_light_df['rewarded']=='rewarded']\n",
    "cat2 = duration_light_df[duration_light_df['rewarded']=='unrewarded']\n",
    "\n",
    "ttest_ind(cat1['value'], cat2['value'])"
   ]
  },
  {
   "cell_type": "code",
   "execution_count": null,
   "metadata": {},
   "outputs": [],
   "source": [
    "# Count t-test\n",
    "cat1 = count_sound_df[count_sound_df['rewarded']=='rewarded']\n",
    "cat2 = count_sound_df[count_sound_df['rewarded']=='unrewarded']\n",
    "\n",
    "ttest_ind(cat1['value'], cat2['value'])"
   ]
  },
  {
   "cell_type": "code",
   "execution_count": null,
   "metadata": {},
   "outputs": [],
   "source": [
    "cat1 = count_light_df[count_light_df['rewarded']=='rewarded']\n",
    "cat2 = count_light_df[count_light_df['rewarded']=='unrewarded']\n",
    "\n",
    "ttest_ind(cat1['value'], cat2['value'])"
   ]
  },
  {
   "cell_type": "code",
   "execution_count": null,
   "metadata": {},
   "outputs": [],
   "source": [
    "# Latency t-test\n",
    "cat1 = latency_sound_df[latency_sound_df['rewarded']=='rewarded']\n",
    "cat2 = latency_sound_df[latency_sound_df['rewarded']=='unrewarded']\n",
    "\n",
    "ttest_ind(cat1['value'], cat2['value'])"
   ]
  },
  {
   "cell_type": "code",
   "execution_count": null,
   "metadata": {},
   "outputs": [],
   "source": [
    "# AtLeastOne t-test\n",
    "cat1 = response_sound_df[response_sound_df['rewarded']=='rewarded']\n",
    "cat2 = response_sound_df[response_sound_df['rewarded']=='unrewarded']\n",
    "\n",
    "ttest_ind(cat1['value'], cat2['value'])"
   ]
  },
  {
   "cell_type": "code",
   "execution_count": null,
   "metadata": {
    "collapsed": true
   },
   "outputs": [],
   "source": []
  },
  {
   "cell_type": "code",
   "execution_count": null,
   "metadata": {
    "collapsed": true
   },
   "outputs": [],
   "source": []
  },
  {
   "cell_type": "code",
   "execution_count": null,
   "metadata": {},
   "outputs": [],
   "source": [
    "binned_expt = Experiment(\n",
    "    name=\"201709\",\n",
    "    cache_key=\"binned\",\n",
    "    trial_epochs=[\n",
    "        TrialEpoch(\"mags\", start_idx=1, stop_idx=2),\n",
    "        TrialEpoch(\"light1\", start_idx=4, stop_idx=5),\n",
    "        TrialEpoch(\"light2\", start_idx=6, stop_idx=7),\n",
    "        TrialEpoch(\"prelight1\", start_idx=4, duration=-20),\n",
    "        TrialEpoch(\"prelight2\", start_idx=6, duration=-20),\n",
    "    ],\n",
    "    measurements=[m.Duration()],\n",
    "    rats=[\n",
    "        Rat('R155', group=\"1\", gender=\"male\"),\n",
    "#         Rat('R156', group=\"2\", gender=\"female\"),\n",
    "#         Rat('R157', group=\"2\", gender=\"male\"),\n",
    "#         Rat('R158', group=\"1\", gender=\"female\"),\n",
    "#         Rat('R159', group=\"2\", gender=\"male\"),\n",
    "#         Rat('R160', group=\"1\", gender=\"female\"),\n",
    "#         Rat('R161', group=\"1\", gender=\"male\"),\n",
    "#         Rat('R162', group=\"2\", gender=\"female\"),\n",
    "    ],\n",
    "    magazine_session='!2017-09-20',\n",
    "    sessionfiles=['!2017-10-06']\n",
    ")\n",
    "\n",
    "\n",
    "def add_datapoints(session, data, rat):\n",
    "    session.add_binned_data(rat.rat_id, data[\"light1\"], binsize=5, info={'cue': 'light1'})\n",
    "    session.add_binned_data(rat.rat_id, data[\"light2\"], binsize=5, info={'cue': 'light2'})\n",
    "\n",
    "binned_expt.add_datapoints = add_datapoints\n",
    "binned_df = binned_expt.analyze(cached_data=False)\n",
    "binned_df = binned_df.drop(binned_df.loc[(binned_df.duration == 155) &\n",
    "                                         (binned_df.time_start == 150)].index)\n",
    "binned_df = binned_df.drop(binned_df.loc[(binned_df.duration == 185) &\n",
    "                                         (binned_df.time_start == 180)].index)\n",
    "binned_df = binned_df.drop(binned_df.loc[(binned_df.duration == 215) &\n",
    "                                         (binned_df.time_start == 210)].index)\n",
    "binned_df = binned_df.drop(binned_df.loc[(binned_df.duration == 245) &\n",
    "                                         (binned_df.time_start == 240)].index)\n",
    "binned_df = binned_df.drop(binned_df.loc[(binned_df.duration == 275) &\n",
    "                                         (binned_df.time_start == 270)].index)\n",
    "\n",
    "binned_df.loc[binned_df.duration == 155, 'duration'] = 150\n",
    "binned_df.loc[binned_df.duration == 185, 'duration'] = 180\n",
    "binned_df.loc[binned_df.duration == 215, 'duration'] = 210\n",
    "binned_df.loc[binned_df.duration == 245, 'duration'] = 240\n",
    "binned_df.loc[binned_df.duration == 275, 'duration'] = 270"
   ]
  },
  {
   "cell_type": "code",
   "execution_count": null,
   "metadata": {},
   "outputs": [],
   "source": [
    "# Feature t-test\n",
    "cat1 = binned_df[binned_df['cue']=='light1']\n",
    "cat2 = binned_df[binned_df['cue']=='light2']\n",
    "\n",
    "ttest_ind(cat1['value'], cat2['value'])"
   ]
  },
  {
   "cell_type": "code",
   "execution_count": null,
   "metadata": {},
   "outputs": [],
   "source": [
    "for measure in [\"Duration\", \"Count\"]:\n",
    "    group1 = [rat for rat in binned_expt.rats if rat.group == \"1\"]\n",
    "    filepath = os.path.join(binned_expt.plot_dir, 'group1_' +\n",
    "                            measure.lower() + '_binned.png')\n",
    "    plot_overtime(binned_df, rats=group1, filepath=filepath, measure=measure)\n",
    "\n",
    "    group2 = [rat for rat in binned_expt.rats if rat.group == \"2\"]\n",
    "    filepath = os.path.join(binned_expt.plot_dir, 'group2_' +\n",
    "                            measure.lower() + '_binned.png')\n",
    "    plot_overtime(binned_df, rats=group2, filepath=filepath, measure=measure)\n",
    "\n",
    "    filepath = os.path.join(binned_expt.plot_dir, 'all-rats_' +\n",
    "                            measure.lower() + '_binned.png')\n",
    "    plot_overtime(binned_df, rats=binned_expt.rats, filepath=filepath, measure=measure)\n",
    "\n",
    "    for rat in binned_expt.rats:\n",
    "        filepath = os.path.join(binned_expt.plot_dir, rat.rat_id + '_' +\n",
    "                                measure.lower() + '_binned.png')\n",
    "        plot_overtime(binned_df, rats=[rat], filepath=filepath, measure=measure)"
   ]
  },
  {
   "cell_type": "code",
   "execution_count": null,
   "metadata": {
    "collapsed": true
   },
   "outputs": [],
   "source": []
  }
 ],
 "metadata": {
  "kernelspec": {
   "display_name": "Python 3",
   "language": "python",
   "name": "python3"
  },
  "language_info": {
   "codemirror_mode": {
    "name": "ipython",
    "version": 3
   },
   "file_extension": ".py",
   "mimetype": "text/x-python",
   "name": "python",
   "nbconvert_exporter": "python",
   "pygments_lexer": "ipython3",
   "version": "3.6.2"
  }
 },
 "nbformat": 4,
 "nbformat_minor": 2
}
