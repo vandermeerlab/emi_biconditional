{
 "cells": [
  {
   "cell_type": "code",
   "execution_count": 1,
   "metadata": {
    "collapsed": true
   },
   "outputs": [],
   "source": [
    "%matplotlib inline\n",
    "import matplotlib.pyplot as plt\n",
    "import os\n",
    "import numpy as np\n",
    "import pandas as pd\n",
    "import seaborn as sns\n",
    "\n",
    "import vdmlab as vdm\n",
    "from core import Rat, combine_rats\n",
    "from load_data import assign_label, load_biconditional_events_general, vdm_assign_label"
   ]
  },
  {
   "cell_type": "code",
   "execution_count": 2,
   "metadata": {
    "collapsed": true
   },
   "outputs": [],
   "source": [
    "data_filepath = 'E:/code/emi_biconditional/cache/data/winter2017'"
   ]
  },
  {
   "cell_type": "code",
   "execution_count": 3,
   "metadata": {
    "collapsed": true
   },
   "outputs": [],
   "source": [
    "rats = ['R120', 'R121', 'R118', 'R119', 'R116', 'R117', 'R114']\n",
    "other_rat = 'R115'\n",
    "\n",
    "groups = [1, 2, 1, 2, 1, 2, 1]\n",
    "\n",
    "group1 = ['R120', 'R118', 'R116', 'R114']\n",
    "group2 = ['R121', 'R119', 'R117']"
   ]
  },
  {
   "cell_type": "code",
   "execution_count": 55,
   "metadata": {
    "collapsed": true
   },
   "outputs": [],
   "source": [
    "session_id = '2017-01-22'\n",
    "this_rat = 'R114'"
   ]
  },
  {
   "cell_type": "code",
   "execution_count": 56,
   "metadata": {
    "collapsed": false
   },
   "outputs": [],
   "source": [
    "filename = os.path.join(data_filepath, '!' + session_id)"
   ]
  },
  {
   "cell_type": "code",
   "execution_count": 57,
   "metadata": {
    "collapsed": false
   },
   "outputs": [],
   "source": [
    "data = dict()\n",
    "for rat in rats:\n",
    "    data[rat] = Rat(rat, group1, group2)\n",
    "\n",
    "rats_data = vdm.load_medpc(filename, assign_label)"
   ]
  },
  {
   "cell_type": "code",
   "execution_count": 58,
   "metadata": {
    "collapsed": true
   },
   "outputs": [],
   "source": [
    "trial_order = []\n",
    "for trial in ['trial1', 'trial2', 'trial3', 'trial4']:\n",
    "    for start, stop in zip(rats_data[rat][trial].starts, rats_data[rat][trial].stops):\n",
    "        trial_order.append((trial, vdm.Epoch(start, stop-start)))"
   ]
  },
  {
   "cell_type": "code",
   "execution_count": 59,
   "metadata": {
    "collapsed": false
   },
   "outputs": [],
   "source": [
    "ordered = sorted(trial_order, key=lambda x: x[1].start)"
   ]
  },
  {
   "cell_type": "code",
   "execution_count": 60,
   "metadata": {
    "collapsed": false
   },
   "outputs": [],
   "source": [
    "mags = rats_data[this_rat]['mags']\n",
    "sounds1 = rats_data[this_rat]['sounds1']\n",
    "sounds2 = rats_data[this_rat]['sounds2']\n",
    "\n",
    "durations = []\n",
    "for t in ordered:\n",
    "    trial = t[0]\n",
    "    trial_epoch = t[1]\n",
    "    \n",
    "    if trial in ['trial1', 'trial4']:\n",
    "        sound_epochs = trial_epoch.intersect(sounds2)\n",
    "        cue_mags = sound_epochs.intersect(mags)\n",
    "        durations.append(np.sum(cue_mags.durations))\n",
    "    if trial in ['trial2', 'trial3']:\n",
    "        sound_epochs = trial_epoch.intersect(sounds1)\n",
    "        cue_mags = sound_epochs.intersect(mags)\n",
    "        durations.append(np.sum(cue_mags.durations))"
   ]
  },
  {
   "cell_type": "code",
   "execution_count": 61,
   "metadata": {
    "collapsed": true
   },
   "outputs": [],
   "source": [
    "trials = []\n",
    "for y in ordered:\n",
    "    trials.append(y[0])"
   ]
  },
  {
   "cell_type": "code",
   "execution_count": 62,
   "metadata": {
    "collapsed": false
   },
   "outputs": [
    {
     "data": {
      "image/png": "[encoded data removed]",
      "text/plain": [
       "<matplotlib.figure.Figure at 0x15ba4dd5668>"
      ]
     },
     "metadata": {},
     "output_type": "display_data"
    }
   ],
   "source": [
    "plt.plot(durations)\n",
    "plt.xticks(range(32), trials, rotation='vertical')\n",
    "plt.show()"
   ]
  },
  {
   "cell_type": "code",
   "execution_count": null,
   "metadata": {
    "collapsed": true
   },
   "outputs": [],
   "source": []
  },
  {
   "cell_type": "code",
   "execution_count": null,
   "metadata": {
    "collapsed": true
   },
   "outputs": [],
   "source": []
  },
  {
   "cell_type": "code",
   "execution_count": null,
   "metadata": {
    "collapsed": true
   },
   "outputs": [],
   "source": []
  },
  {
   "cell_type": "code",
   "execution_count": null,
   "metadata": {
    "collapsed": true
   },
   "outputs": [],
   "source": []
  },
  {
   "cell_type": "code",
   "execution_count": null,
   "metadata": {
    "collapsed": true
   },
   "outputs": [],
   "source": []
  },
  {
   "cell_type": "code",
   "execution_count": null,
   "metadata": {
    "collapsed": true
   },
   "outputs": [],
   "source": []
  },
  {
   "cell_type": "code",
   "execution_count": null,
   "metadata": {
    "collapsed": true
   },
   "outputs": [],
   "source": []
  },
  {
   "cell_type": "code",
   "execution_count": null,
   "metadata": {
    "collapsed": false
   },
   "outputs": [],
   "source": [
    "df = combine_rats(data, rats, n_sessions=1)"
   ]
  },
  {
   "cell_type": "code",
   "execution_count": null,
   "metadata": {
    "collapsed": false
   },
   "outputs": [],
   "source": [
    "df.head()"
   ]
  },
  {
   "cell_type": "code",
   "execution_count": null,
   "metadata": {
    "collapsed": false
   },
   "outputs": [],
   "source": [
    "k = df.loc[(df.rat == 'R114') & \n",
    "           (df.measure == 'durations') & \n",
    "           (df.cue == 'sound')]"
   ]
  },
  {
   "cell_type": "code",
   "execution_count": null,
   "metadata": {
    "collapsed": false
   },
   "outputs": [],
   "source": [
    "k.shape"
   ]
  },
  {
   "cell_type": "code",
   "execution_count": null,
   "metadata": {
    "collapsed": false
   },
   "outputs": [],
   "source": [
    "plt.plot(k.value)\n",
    "plt.show()"
   ]
  },
  {
   "cell_type": "code",
   "execution_count": null,
   "metadata": {
    "collapsed": true
   },
   "outputs": [],
   "source": []
  },
  {
   "cell_type": "code",
   "execution_count": null,
   "metadata": {
    "collapsed": true
   },
   "outputs": [],
   "source": []
  },
  {
   "cell_type": "code",
   "execution_count": null,
   "metadata": {
    "collapsed": false
   },
   "outputs": [],
   "source": [
    "%matplotlib inline\n",
    "import vdmlab as vdm\n",
    "import os\n",
    "import numpy as np\n",
    "import pandas as pd\n",
    "import seaborn as sns\n",
    "import matplotlib.pyplot as plt\n",
    "from core import assign_label, Rat, combine_rats\n",
    "from plotting import plot_behavior"
   ]
  },
  {
   "cell_type": "code",
   "execution_count": null,
   "metadata": {
    "collapsed": true
   },
   "outputs": [],
   "source": [
    "home = os.path.expanduser(\"~\")\n",
    "root = os.path.join(home, 'code', 'emi_biconditional')\n",
    "data_filepath = os.path.join(root, 'cache', 'data')\n",
    "split_data_filepath = os.path.join(root, 'cache', 'other')\n",
    "output_filepath = os.path.join(root, 'plots')"
   ]
  },
  {
   "cell_type": "code",
   "execution_count": null,
   "metadata": {
    "collapsed": false
   },
   "outputs": [],
   "source": [
    "sessions = []\n",
    "for file in sorted(os.listdir(data_filepath)):\n",
    "    if file[0] == '!':\n",
    "        sessions.append(os.path.join(data_filepath, file))\n",
    "\n",
    "rats = ['1', '2', '3', '4', '5', '6', '7', '8']\n",
    "\n",
    "data = dict()\n",
    "for rat in rats:\n",
    "    data[rat] = Rat(rat)\n",
    "\n",
    "broken_a = os.path.join(split_data_filepath, '!2016-10-19a1')\n",
    "broken_b = os.path.join(split_data_filepath, '!2016-10-19a2')\n",
    "rats_data_a = vdm.load_medpc(broken_a, assign_label)\n",
    "rats_data_b = vdm.load_medpc(broken_b, assign_label)\n",
    "for rat in rats_data_a:\n",
    "    for key in rats_data_a[rat]:\n",
    "        rats_data_b[rat][key].join(rats_data_a[rat][key])\n",
    "\n",
    "for rat in rats:\n",
    "    data[rat].add_session(**rats_data_b[rat])\n",
    "\n",
    "for session in sessions:\n",
    "    rats_data = vdm.load_medpc(os.path.join(data_filepath, session), assign_label)\n",
    "\n",
    "    for rat in rats:\n",
    "        data[rat].add_session(**rats_data[rat])\n",
    "\n",
    "n_sessions = len(data['1'].sessions)\n",
    "only_sound = False\n",
    "\n",
    "df = combine_rats(data, rats, n_sessions, only_sound)"
   ]
  },
  {
   "cell_type": "code",
   "execution_count": null,
   "metadata": {
    "collapsed": true
   },
   "outputs": [],
   "source": [
    "def fix_missing_trials(df):\n",
    "    nan_idx = np.where(np.isnan(df['value']))[0]\n",
    "    for idx in nan_idx:\n",
    "        row = df.loc[idx]\n",
    "        value = df.loc[(df['rat'] == row['rat']) & \n",
    "                       (df['session'] == row['session']) & \n",
    "                       (df['condition'] == row['condition']) & \n",
    "                       (df['measure'] == row['measure'])].mean()['value']\n",
    "\n",
    "        df.set_value(idx, 'value', value)"
   ]
  },
  {
   "cell_type": "code",
   "execution_count": null,
   "metadata": {
    "collapsed": true
   },
   "outputs": [],
   "source": [
    "fix_missing_trials(df)"
   ]
  },
  {
   "cell_type": "code",
   "execution_count": null,
   "metadata": {
    "collapsed": false
   },
   "outputs": [],
   "source": [
    "np.sum(np.isnan(df['value']))"
   ]
  },
  {
   "cell_type": "code",
   "execution_count": null,
   "metadata": {
    "collapsed": false
   },
   "outputs": [],
   "source": [
    "plot_behavior(df, ['1'], only_sound=False, by_outcome=True)"
   ]
  },
  {
   "cell_type": "code",
   "execution_count": null,
   "metadata": {
    "collapsed": true
   },
   "outputs": [],
   "source": []
  }
 ],
 "metadata": {
  "kernelspec": {
   "display_name": "Python 3",
   "language": "python",
   "name": "python3"
  },
  "language_info": {
   "codemirror_mode": {
    "name": "ipython",
    "version": 3
   },
   "file_extension": ".py",
   "mimetype": "text/x-python",
   "name": "python",
   "nbconvert_exporter": "python",
   "pygments_lexer": "ipython3",
   "version": "3.5.2"
  }
 },
 "nbformat": 4,
 "nbformat_minor": 0
}
