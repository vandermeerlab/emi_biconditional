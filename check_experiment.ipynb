{
 "cells": [
  {
   "cell_type": "code",
   "execution_count": null,
   "metadata": {
    "collapsed": false
   },
   "outputs": [],
   "source": [
    "%matplotlib inline\n",
    "import matplotlib.pyplot as plt\n",
    "import numpy as np\n",
    "import os\n",
    "\n",
    "from load_data import assign_label, load_biconditional_events_general, vdm_assign_label\n",
    "import vdmlab as vdm"
   ]
  },
  {
   "cell_type": "code",
   "execution_count": null,
   "metadata": {
    "collapsed": true
   },
   "outputs": [],
   "source": [
    "data_filepath = 'E:\\code\\emi_biconditional\\cache\\data\\winter2017'"
   ]
  },
  {
   "cell_type": "code",
   "execution_count": null,
   "metadata": {
    "collapsed": false
   },
   "outputs": [],
   "source": [
    "this_id = 0\n",
    "for file in sorted(os.listdir(data_filepath)):\n",
    "    if file[0] == '!':\n",
    "        session = file[1:5] + file[6:8] + file[9:]\n",
    "        if int(session) > this_id:\n",
    "            this_id = int(session)\n",
    "            session_id = file[1:]\n",
    "            \n",
    "print('checking session:', session_id)\n",
    "\n",
    "# session_id = '2017-01-19'"
   ]
  },
  {
   "cell_type": "code",
   "execution_count": null,
   "metadata": {
    "collapsed": true
   },
   "outputs": [],
   "source": [
    "def check_session(data, n_unique_trial=8, n_feeder=16, n_light=16, n_sound=16):\n",
    "    for trial in ['trial1', 'trial2', 'trial3', 'trial4']:\n",
    "        n_trial = data[trial].n_epochs\n",
    "        assert(n_trial == n_unique_trial)\n",
    "\n",
    "    for light, sound in zip(['lights1', 'lights2'], ['sounds1', 'sounds2']):\n",
    "        n_trial = data[light].n_epochs\n",
    "        assert(n_trial == n_light)\n",
    "\n",
    "        n_trial = data[sound].n_epochs\n",
    "        assert(n_trial == n_sound)\n",
    "\n",
    "    n_trial = data['pellets'].n_epochs\n",
    "    assert(n_trial == n_feeder or n_trial == n_feeder*2)\n",
    "    \n",
    "    print('passed')"
   ]
  },
  {
   "cell_type": "code",
   "execution_count": null,
   "metadata": {
    "collapsed": true
   },
   "outputs": [],
   "source": [
    "rats = ['R120', 'R121', 'R118', 'R119', 'R116', 'R117', 'R114']\n",
    "other_rat = 'R115'"
   ]
  },
  {
   "cell_type": "markdown",
   "metadata": {},
   "source": [
    "## MedPC rats"
   ]
  },
  {
   "cell_type": "code",
   "execution_count": null,
   "metadata": {
    "collapsed": false
   },
   "outputs": [],
   "source": [
    "filename = os.path.join(data_filepath, '!' + session_id)"
   ]
  },
  {
   "cell_type": "code",
   "execution_count": null,
   "metadata": {
    "collapsed": false
   },
   "outputs": [],
   "source": [
    "data = vdm.load_medpc(filename, assign_label)"
   ]
  },
  {
   "cell_type": "code",
   "execution_count": null,
   "metadata": {
    "collapsed": false
   },
   "outputs": [],
   "source": [
    "for rat in rats:\n",
    "    print(rat, ':')\n",
    "    \n",
    "    check_session(data[rat])"
   ]
  },
  {
   "cell_type": "markdown",
   "metadata": {},
   "source": [
    "## Recording box rat"
   ]
  },
  {
   "cell_type": "code",
   "execution_count": null,
   "metadata": {
    "collapsed": false
   },
   "outputs": [],
   "source": [
    "rec_filename = os.path.join(data_filepath, 'R115-' + session_id + '-Events.nev')\n",
    "events = load_biconditional_events_general(rec_filename)\n",
    "rec_data = vdm_assign_label(events)"
   ]
  },
  {
   "cell_type": "code",
   "execution_count": null,
   "metadata": {
    "collapsed": false
   },
   "outputs": [],
   "source": [
    "rat = other_rat\n",
    "print(rat, ':')\n",
    "    \n",
    "check_session(rec_data)"
   ]
  },
  {
   "cell_type": "code",
   "execution_count": null,
   "metadata": {
    "collapsed": true
   },
   "outputs": [],
   "source": []
  }
 ],
 "metadata": {
  "kernelspec": {
   "display_name": "Python 3",
   "language": "python",
   "name": "python3"
  },
  "language_info": {
   "codemirror_mode": {
    "name": "ipython",
    "version": 3
   },
   "file_extension": ".py",
   "mimetype": "text/x-python",
   "name": "python",
   "nbconvert_exporter": "python",
   "pygments_lexer": "ipython3",
   "version": "3.5.2"
  }
 },
 "nbformat": 4,
 "nbformat_minor": 0
}
