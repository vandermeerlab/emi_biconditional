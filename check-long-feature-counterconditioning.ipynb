{
 "cells": [
  {
   "cell_type": "code",
   "execution_count": null,
   "metadata": {
    "collapsed": true
   },
   "outputs": [],
   "source": [
    "%matplotlib inline\n",
    "import matplotlib.pyplot as plt\n",
    "import os\n",
    "from scipy.stats import ttest_ind\n",
    "import numpy as np\n",
    "import seaborn as sns\n",
    "import measurements as m\n",
    "from core import Experiment, Rat, TrialEpoch\n",
    "from plotting import plot_overtime, plot_behavior, add_col"
   ]
  },
  {
   "cell_type": "code",
   "execution_count": null,
   "metadata": {
    "collapsed": true
   },
   "outputs": [],
   "source": [
    "this_session = ['!2017-10-19']"
   ]
  },
  {
   "cell_type": "code",
   "execution_count": null,
   "metadata": {
    "collapsed": true
   },
   "outputs": [],
   "source": [
    "counterconditioning = ['!2017-10-04', '!2017-10-05', '!2017-10-06',\n",
    "                       '!2017-10-07', '!2017-10-08', '!2017-10-09', \n",
    "                       '!2017-10-10', '!2017-10-11', '!2017-10-12',\n",
    "                       '!2017-10-13', '!2017-10-14', '!2017-10-15',\n",
    "                       '!2017-10-16', '!2017-10-17', '!2017-10-18',\n",
    "                       '!2017-10-19']"
   ]
  },
  {
   "cell_type": "code",
   "execution_count": null,
   "metadata": {
    "collapsed": true
   },
   "outputs": [],
   "source": [
    "probe_sessions = ['!2017-10-16', '!2017-10-17', '!2017-10-18', '!2017-10-19']"
   ]
  },
  {
   "cell_type": "code",
   "execution_count": null,
   "metadata": {
    "collapsed": true
   },
   "outputs": [],
   "source": [
    "probe_colours = {'baseline, ':'#252525', 'light, rewarded':'#1f77b4', 'light, unrewarded':'#aec7e8', \n",
    "                 'probe, rewarded':'#d62728', 'probe, unrewarded':'#ff9896'}\n",
    "overtime_colours = {'light1':'#9970ab', 'light2':'#5aae61'}"
   ]
  },
  {
   "cell_type": "code",
   "execution_count": null,
   "metadata": {
    "scrolled": false
   },
   "outputs": [],
   "source": [
    "for r, g, s in zip(['R155', 'R156', 'R157', 'R158', 'R159', 'R160', 'R161', 'R162'], \n",
    "                [1, 2, 2, 1, 2, 1, 1, 2], \n",
    "                ['male', 'female', 'male', 'female', 'male', 'female', 'male', 'female']):\n",
    "    rat = [Rat(r, group=g, gender=s)]\n",
    "\n",
    "    binned_expt = Experiment(\n",
    "        name=\"201709\",\n",
    "        cache_key=\"binned\",\n",
    "        trial_epochs=[\n",
    "            TrialEpoch(\"mags\", start_idx=1, stop_idx=2),\n",
    "            TrialEpoch(\"light1\", start_idx=4, stop_idx=5),\n",
    "            TrialEpoch(\"light2\", start_idx=6, stop_idx=7),\n",
    "            TrialEpoch(\"prelight1\", start_idx=4, duration=-20),\n",
    "            TrialEpoch(\"prelight2\", start_idx=6, duration=-20),\n",
    "        ],\n",
    "        measurements=[m.Duration(), m.Count()],\n",
    "        rats=rat,\n",
    "        ignore_sessions=['!2017-09-20'],\n",
    "        sessionfiles=this_session\n",
    "    )\n",
    "\n",
    "\n",
    "    def add_datapoints(session, data, rat):\n",
    "        session.add_binned_data(rat.rat_id, data[\"light1\"], binsize=5, info={'cue': 'light1'})\n",
    "        session.add_binned_data(rat.rat_id, data[\"light2\"], binsize=5, info={'cue': 'light2'})\n",
    "\n",
    "    binned_expt.add_datapoints = add_datapoints\n",
    "    binned_df = binned_expt.analyze(cached_data=False)\n",
    "    binned_df = binned_df.drop(binned_df.loc[(binned_df.duration == 155) &\n",
    "                                             (binned_df.time_start == 150)].index)\n",
    "    binned_df = binned_df.drop(binned_df.loc[(binned_df.duration == 185) &\n",
    "                                             (binned_df.time_start == 180)].index)\n",
    "    binned_df = binned_df.drop(binned_df.loc[(binned_df.duration == 215) &\n",
    "                                             (binned_df.time_start == 210)].index)\n",
    "    binned_df = binned_df.drop(binned_df.loc[(binned_df.duration == 245) &\n",
    "                                             (binned_df.time_start == 240)].index)\n",
    "    binned_df = binned_df.drop(binned_df.loc[(binned_df.duration == 275) &\n",
    "                                             (binned_df.time_start == 270)].index)\n",
    "\n",
    "    binned_df.loc[binned_df.duration == 155, 'duration'] = 150\n",
    "    binned_df.loc[binned_df.duration == 185, 'duration'] = 180\n",
    "    binned_df.loc[binned_df.duration == 215, 'duration'] = 210\n",
    "    binned_df.loc[binned_df.duration == 245, 'duration'] = 240\n",
    "    binned_df.loc[binned_df.duration == 275, 'duration'] = 270\n",
    "\n",
    "    print(rat[0].rat_id, \"group:\", rat[0].group)\n",
    "\n",
    "    # duration t-test\n",
    "    duration_df = binned_df[binned_df['measure']=='Duration']\n",
    "    dur1 = duration_df[duration_df['cue']=='light1']\n",
    "    dur2 = duration_df[duration_df['cue']=='light2']\n",
    "\n",
    "    print('Duration:', ttest_ind(dur1['value'], dur2['value']))\n",
    "    print('light1:', dur1['value'].mean())\n",
    "    print('light2:', dur2['value'].mean())\n",
    "\n",
    "    plot_overtime(binned_df, rats=rat, filepath=None, measure=\"Duration\",\n",
    "                  labels=\"Duration in food cup (s)\", colours=overtime_colours)\n",
    "\n",
    "    # count t-test\n",
    "    count_df = binned_df[binned_df['measure']=='Count']\n",
    "    count1 = count_df[count_df['cue']=='light1']\n",
    "    count2 = count_df[count_df['cue']=='light2']\n",
    "\n",
    "    print('Count:', ttest_ind(count1['value'], count2['value']))\n",
    "    print('light1:', count1['value'].mean())\n",
    "    print('light2:', count2['value'].mean())\n",
    "\n",
    "    plot_overtime(binned_df, rats=rat, filepath=None, measure=\"Count\", \n",
    "                  labels=\"Number of entries\", colours=overtime_colours)"
   ]
  },
  {
   "cell_type": "code",
   "execution_count": null,
   "metadata": {
    "collapsed": true
   },
   "outputs": [],
   "source": []
  },
  {
   "cell_type": "code",
   "execution_count": null,
   "metadata": {
    "scrolled": true
   },
   "outputs": [],
   "source": [
    "epoch_expt = Experiment(\n",
    "    name=\"201709\",\n",
    "    cache_key=\"epoch\",\n",
    "    plot_key=\"\",\n",
    "    trial_epochs=[\n",
    "        TrialEpoch(\"mags\", start_idx=1, stop_idx=2),\n",
    "        TrialEpoch(\"light1\", start_idx=4, stop_idx=5),\n",
    "        TrialEpoch(\"light2\", start_idx=6, stop_idx=7),\n",
    "        TrialEpoch(\"trial1\", start_idx=12, stop_idx=13),\n",
    "        TrialEpoch(\"trial2\", start_idx=14, stop_idx=15),\n",
    "        TrialEpoch(\"baseline\", start_idx=4, duration=-10),\n",
    "        TrialEpoch(\"baseline\", start_idx=6, duration=-10),\n",
    "    ],\n",
    "    measurements=[m.DurationPerSecond(), m.CountPerSecond()],\n",
    "    rats=[\n",
    "        Rat('R155', group=\"1\", gender=\"male\"),\n",
    "        Rat('R156', group=\"2\", gender=\"female\"),\n",
    "        Rat('R157', group=\"2\", gender=\"male\"),\n",
    "        Rat('R158', group=\"1\", gender=\"female\"),\n",
    "        Rat('R159', group=\"2\", gender=\"male\"),\n",
    "        Rat('R160', group=\"1\", gender=\"female\"),\n",
    "        Rat('R161', group=\"1\", gender=\"male\"),\n",
    "        Rat('R162', group=\"2\", gender=\"female\"),\n",
    "    ],\n",
    "    ignore_sessions=['!2017-09-20'],\n",
    "    sessionfiles=counterconditioning,\n",
    ")\n",
    "\n",
    "\n",
    "def add_datapoints(session, data, rat):\n",
    "\n",
    "    def add_data(cue, trial=None):\n",
    "        if trial is not None:\n",
    "            meta = {\n",
    "                \"cue_type\": cue[:5],\n",
    "                \"trial_type\": trial[-1],\n",
    "                \"rewarded\": \"rewarded\" if trial == \"trial1\" else \"unrewarded\",\n",
    "                \"cue\": cue,\n",
    "            }\n",
    "            trial = data[trial]\n",
    "            cue = data[cue]\n",
    "            session.add_epoch_data(rat.rat_id, trial.intersect(cue), meta)\n",
    "        else:\n",
    "            meta = {\n",
    "                \"cue_type\": cue,\n",
    "                \"trial_type\": \"\",\n",
    "                \"rewarded\": \"\",\n",
    "                \"cue\": cue,\n",
    "            }\n",
    "            session.add_epoch_data(rat.rat_id, data[cue], meta)\n",
    "\n",
    "    if rat.group == \"1\":\n",
    "        add_data(\"light1\", \"trial1\")\n",
    "        add_data(\"light2\", \"trial2\")\n",
    "        add_data(\"baseline\")\n",
    "\n",
    "    elif rat.group == \"2\":\n",
    "        add_data(\"light1\", \"trial2\")\n",
    "        add_data(\"light2\", \"trial1\")\n",
    "        add_data(\"baseline\")\n",
    "\n",
    "\n",
    "epoch_expt.add_datapoints = add_datapoints\n",
    "epoch_expt.analyze(cached_data=False)"
   ]
  },
  {
   "cell_type": "code",
   "execution_count": null,
   "metadata": {},
   "outputs": [],
   "source": [
    "epoch_expt.rats[0].rat_id"
   ]
  },
  {
   "cell_type": "code",
   "execution_count": null,
   "metadata": {
    "collapsed": true
   },
   "outputs": [],
   "source": []
  },
  {
   "cell_type": "code",
   "execution_count": null,
   "metadata": {
    "collapsed": true,
    "scrolled": false
   },
   "outputs": [],
   "source": [
    "for rat in epoch_expt.rats:\n",
    "    print(rat.rat_id)\n",
    "    plot_behavior(epoch_expt.df, [rat], filepath=None, by_outcome=True, measure=\"DurationPerSecond\", \n",
    "                  labels=[\"Duration in food cup per second\"], colours=probe_colours)\n",
    "    plot_behavior(epoch_expt.df, [rat], filepath=None, by_outcome=True, measure=\"CountPerSecond\", \n",
    "                  labels=[\"Number of entries per second\"], colours=probe_colours)"
   ]
  },
  {
   "cell_type": "code",
   "execution_count": null,
   "metadata": {
    "collapsed": true
   },
   "outputs": [],
   "source": []
  },
  {
   "cell_type": "code",
   "execution_count": null,
   "metadata": {
    "collapsed": true
   },
   "outputs": [],
   "source": []
  },
  {
   "cell_type": "code",
   "execution_count": null,
   "metadata": {
    "collapsed": true,
    "scrolled": true
   },
   "outputs": [],
   "source": [
    "epoch_expt = Experiment(\n",
    "    name=\"201709\",\n",
    "    cache_key=\"epoch\",\n",
    "    trial_epochs=[\n",
    "        TrialEpoch(\"mags\", start_idx=1, stop_idx=2),\n",
    "        TrialEpoch(\"light1\", start_idx=4, stop_idx=5),\n",
    "        TrialEpoch(\"light2\", start_idx=6, stop_idx=7),\n",
    "        TrialEpoch(\"probe1\", start_idx=8, stop_idx=9),\n",
    "        TrialEpoch(\"probe2\", start_idx=10, stop_idx=11),\n",
    "        TrialEpoch(\"trial1\", start_idx=12, stop_idx=13),\n",
    "        TrialEpoch(\"trial2\", start_idx=14, stop_idx=15),\n",
    "        TrialEpoch(\"trial3\", start_idx=16, stop_idx=17),\n",
    "        TrialEpoch(\"trial4\", start_idx=18, stop_idx=19),\n",
    "        TrialEpoch(\"baseline\", start_idx=4, duration=-10),\n",
    "        TrialEpoch(\"baseline\", start_idx=6, duration=-10),\n",
    "    ],\n",
    "    measurements=[m.Duration(), m.DurationPerSecond(), m.CountPerSecond()],\n",
    "    rats=[\n",
    "        Rat('R155', group=\"1\", gender=\"male\"),\n",
    "        Rat('R156', group=\"2\", gender=\"female\"),\n",
    "        Rat('R157', group=\"2\", gender=\"male\"),\n",
    "        Rat('R158', group=\"1\", gender=\"female\"),\n",
    "        Rat('R159', group=\"2\", gender=\"male\"),\n",
    "        Rat('R160', group=\"1\", gender=\"female\"),\n",
    "        Rat('R161', group=\"1\", gender=\"male\"),\n",
    "        Rat('R162', group=\"2\", gender=\"female\"),\n",
    "    ],\n",
    "    ignore_sessions=['!2017-09-20'],\n",
    "    sessionfiles=['!2017-10-16', '!2017-10-17'],\n",
    ")\n",
    "\n",
    "\n",
    "def add_datapoints(session, data, rat):\n",
    "\n",
    "    def add_data(cue, trial=None):\n",
    "        if trial is not None:\n",
    "            meta = {\n",
    "                \"cue_type\": cue[:5],\n",
    "                \"trial_type\": trial[-1],\n",
    "                \"rewarded\": \"rewarded\" if (trial == \"trial1\") | (trial == \"trial3\") else \"unrewarded\",\n",
    "                \"cue\": cue,\n",
    "            }\n",
    "            trial = data[trial]\n",
    "            cue = data[cue]\n",
    "            session.add_epoch_data(rat.rat_id, trial.intersect(cue), meta)\n",
    "        else:\n",
    "            meta = {\n",
    "                \"cue_type\": cue,\n",
    "                \"trial_type\": \"\",\n",
    "                \"rewarded\": \"\",\n",
    "                \"cue\": cue,\n",
    "            }\n",
    "            session.add_epoch_data(rat.rat_id, data[cue], meta)\n",
    "\n",
    "    if rat.group == \"1\":\n",
    "        add_data(\"light1\", \"trial1\")\n",
    "        add_data(\"light2\", \"trial2\")\n",
    "        add_data(\"probe1\", \"trial3\")\n",
    "        add_data(\"probe2\", \"trial4\")\n",
    "        add_data(\"baseline\")\n",
    "\n",
    "    elif rat.group == \"2\":\n",
    "        add_data(\"light1\", \"trial2\")\n",
    "        add_data(\"light2\", \"trial1\")\n",
    "        add_data(\"probe1\", \"trial4\")\n",
    "        add_data(\"probe2\", \"trial3\")\n",
    "        add_data(\"baseline\")\n",
    "\n",
    "\n",
    "epoch_expt.add_datapoints = add_datapoints\n",
    "epoch_expt.analyze(cached_data=False)"
   ]
  },
  {
   "cell_type": "code",
   "execution_count": null,
   "metadata": {
    "collapsed": true,
    "scrolled": false
   },
   "outputs": [],
   "source": [
    "for rat in epoch_expt.rats:\n",
    "    print(rat.rat_id)\n",
    "    plot_behavior(epoch_expt.df, [rat], filepath=None, by_outcome=True, measure=\"DurationPerSecond\",\n",
    "                 labels=[\"Duration in food cup per second\"], colours=probe_colours)\n",
    "    plot_behavior(epoch_expt.df, [rat], filepath=None, by_outcome=True, measure=\"CountPerSecond\",\n",
    "                 labels=[\"Number of entries per second\"], colours=probe_colours)"
   ]
  },
  {
   "cell_type": "code",
   "execution_count": null,
   "metadata": {
    "collapsed": true
   },
   "outputs": [],
   "source": []
  },
  {
   "cell_type": "code",
   "execution_count": null,
   "metadata": {
    "collapsed": true
   },
   "outputs": [],
   "source": [
    "epoch_expt = Experiment(\n",
    "    name=\"201709\",\n",
    "    cache_key=\"epoch\",\n",
    "    trial_epochs=[\n",
    "        TrialEpoch(\"mags\", start_idx=1, stop_idx=2),\n",
    "        TrialEpoch(\"light1\", start_idx=5, duration=-10),\n",
    "        TrialEpoch(\"light2\", start_idx=7, duration=-10),\n",
    "        TrialEpoch(\"probe1end\", start_idx=9, duration=-10),\n",
    "        TrialEpoch(\"probe2end\", start_idx=11, duration=-10),\n",
    "        TrialEpoch(\"trial1\", start_idx=12, stop_idx=13),\n",
    "        TrialEpoch(\"trial2\", start_idx=14, stop_idx=15),\n",
    "        TrialEpoch(\"trial3\", start_idx=16, stop_idx=17),\n",
    "        TrialEpoch(\"trial4\", start_idx=18, stop_idx=19),\n",
    "        TrialEpoch(\"baseline\", start_idx=4, duration=-10),\n",
    "        TrialEpoch(\"baseline\", start_idx=6, duration=-10),\n",
    "    ],\n",
    "    measurements=[m.Duration(), m.DurationPerSecond(), m.CountPerSecond()],\n",
    "    rats=[\n",
    "        Rat('R155', group=\"1\", gender=\"male\"),\n",
    "        Rat('R156', group=\"2\", gender=\"female\"),\n",
    "        Rat('R157', group=\"2\", gender=\"male\"),\n",
    "        Rat('R158', group=\"1\", gender=\"female\"),\n",
    "        Rat('R159', group=\"2\", gender=\"male\"),\n",
    "        Rat('R160', group=\"1\", gender=\"female\"),\n",
    "        Rat('R161', group=\"1\", gender=\"male\"),\n",
    "        Rat('R162', group=\"2\", gender=\"female\"),\n",
    "    ],\n",
    "    ignore_sessions=['!2017-09-20'],\n",
    "    sessionfiles=probe_sessions,\n",
    ")\n",
    "\n",
    "\n",
    "def add_datapoints(session, data, rat):\n",
    "\n",
    "    def add_data(cue, trial=None):\n",
    "        if trial is not None:\n",
    "            meta = {\n",
    "                \"cue_type\": cue[:5],\n",
    "                \"trial_type\": trial[-1],\n",
    "                \"rewarded\": \"rewarded\" if (trial == \"trial1\") | (trial == \"trial3\") else \"unrewarded\",\n",
    "                \"cue\": cue,\n",
    "            }\n",
    "            trial = data[trial]\n",
    "            cue = data[cue]\n",
    "            session.add_epoch_data(rat.rat_id, trial.intersect(cue), meta)\n",
    "        else:\n",
    "            meta = {\n",
    "                \"cue_type\": cue,\n",
    "                \"trial_type\": \"\",\n",
    "                \"rewarded\": \"\",\n",
    "                \"cue\": cue,\n",
    "            }\n",
    "            session.add_epoch_data(rat.rat_id, data[cue], meta)\n",
    "\n",
    "    if rat.group == \"1\":\n",
    "        add_data(\"light1\", \"trial1\")\n",
    "        add_data(\"light2\", \"trial2\")\n",
    "        add_data(\"probe1end\", \"trial3\")\n",
    "        add_data(\"probe2end\", \"trial4\")\n",
    "        add_data(\"baseline\")\n",
    "\n",
    "    elif rat.group == \"2\":\n",
    "        add_data(\"light1\", \"trial2\")\n",
    "        add_data(\"light2\", \"trial1\")\n",
    "        add_data(\"probe1end\", \"trial4\")\n",
    "        add_data(\"probe2end\", \"trial3\")\n",
    "        add_data(\"baseline\")\n",
    "\n",
    "\n",
    "epoch_expt.add_datapoints = add_datapoints\n",
    "epoch_expt.analyze(cached_data=False)"
   ]
  },
  {
   "cell_type": "code",
   "execution_count": null,
   "metadata": {
    "collapsed": true,
    "scrolled": false
   },
   "outputs": [],
   "source": [
    "for rat in epoch_expt.rats:\n",
    "    print(rat.rat_id)\n",
    "    plot_behavior(epoch_expt.df, [rat], filepath=None, by_outcome=True, measure=\"DurationPerSecond\",\n",
    "                 labels=[\"Duration in food cup per second\"], colours=probe_colours)\n",
    "    plot_behavior(epoch_expt.df, [rat], filepath=None, by_outcome=True, measure=\"CountPerSecond\",\n",
    "                 labels=[\"Number of entries per second\"], colours=probe_colours)"
   ]
  },
  {
   "cell_type": "code",
   "execution_count": null,
   "metadata": {
    "collapsed": true
   },
   "outputs": [],
   "source": []
  }
 ],
 "metadata": {
  "kernelspec": {
   "display_name": "Python 3",
   "language": "python",
   "name": "python3"
  },
  "language_info": {
   "codemirror_mode": {
    "name": "ipython",
    "version": 3
   },
   "file_extension": ".py",
   "mimetype": "text/x-python",
   "name": "python",
   "nbconvert_exporter": "python",
   "pygments_lexer": "ipython3",
   "version": "3.6.2"
  }
 },
 "nbformat": 4,
 "nbformat_minor": 2
}
