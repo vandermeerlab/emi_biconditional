{
 "cells": [
  {
   "cell_type": "code",
   "execution_count": null,
   "metadata": {
    "collapsed": true
   },
   "outputs": [],
   "source": [
    "%matplotlib inline\n",
    "import matplotlib.pyplot as plt\n",
    "import os\n",
    "import numpy as np\n",
    "import pandas as pd\n",
    "import seaborn as sns\n",
    "\n",
    "import vdmlab as vdm\n",
    "from core import Rat, combine_rats\n",
    "from load_data import assign_label, load_biconditional_events_general, vdm_assign_label"
   ]
  },
  {
   "cell_type": "code",
   "execution_count": null,
   "metadata": {
    "collapsed": true
   },
   "outputs": [],
   "source": [
    "data_filepath = 'E:/code/emi_biconditional/cache/data/winter2017'"
   ]
  },
  {
   "cell_type": "code",
   "execution_count": null,
   "metadata": {
    "collapsed": true
   },
   "outputs": [],
   "source": [
    "rats = ['R120', 'R121', 'R118', 'R119', 'R116', 'R117', 'R114']\n",
    "other_rat = 'R115'\n",
    "\n",
    "groups = [1, 2, 1, 2, 1, 2, 1]\n",
    "\n",
    "group1 = ['R120', 'R118', 'R116', 'R114']\n",
    "group2 = ['R121', 'R119', 'R117']"
   ]
  },
  {
   "cell_type": "code",
   "execution_count": null,
   "metadata": {
    "collapsed": true
   },
   "outputs": [],
   "source": [
    "session_id = '2017-02-04'\n",
    "this_rat = 'R116'"
   ]
  },
  {
   "cell_type": "code",
   "execution_count": null,
   "metadata": {
    "collapsed": false
   },
   "outputs": [],
   "source": [
    "filename = os.path.join(data_filepath, '!' + session_id)"
   ]
  },
  {
   "cell_type": "code",
   "execution_count": null,
   "metadata": {
    "collapsed": false
   },
   "outputs": [],
   "source": [
    "data = dict()\n",
    "for rat in rats:\n",
    "    data[rat] = Rat(rat, group1, group2)\n",
    "\n",
    "rats_data = vdm.load_medpc(filename, assign_label)"
   ]
  },
  {
   "cell_type": "code",
   "execution_count": null,
   "metadata": {
    "collapsed": true
   },
   "outputs": [],
   "source": [
    "trial_order = []\n",
    "for trial in ['trial1', 'trial2', 'trial3', 'trial4']:\n",
    "    for start, stop in zip(rats_data[rat][trial].starts, rats_data[rat][trial].stops):\n",
    "        trial_order.append((trial, vdm.Epoch(start, stop-start)))"
   ]
  },
  {
   "cell_type": "code",
   "execution_count": null,
   "metadata": {
    "collapsed": false
   },
   "outputs": [],
   "source": [
    "ordered = sorted(trial_order, key=lambda x: x[1].start)"
   ]
  },
  {
   "cell_type": "code",
   "execution_count": null,
   "metadata": {
    "collapsed": false
   },
   "outputs": [],
   "source": [
    "mags = rats_data[this_rat]['mags']\n",
    "sounds1 = rats_data[this_rat]['sounds1']\n",
    "sounds2 = rats_data[this_rat]['sounds2']\n",
    "\n",
    "durations = []\n",
    "for t in ordered:\n",
    "    trial = t[0]\n",
    "    trial_epoch = t[1]\n",
    "    \n",
    "    if trial in ['trial1', 'trial4']:\n",
    "        sound_epochs = trial_epoch.intersect(sounds2)\n",
    "        cue_mags = sound_epochs.intersect(mags)\n",
    "        durations.append(np.sum(cue_mags.durations))\n",
    "    if trial in ['trial2', 'trial3']:\n",
    "        sound_epochs = trial_epoch.intersect(sounds1)\n",
    "        cue_mags = sound_epochs.intersect(mags)\n",
    "        durations.append(np.sum(cue_mags.durations))"
   ]
  },
  {
   "cell_type": "code",
   "execution_count": null,
   "metadata": {
    "collapsed": true
   },
   "outputs": [],
   "source": [
    "trials = []\n",
    "for y in ordered:\n",
    "    trials.append(y[0])"
   ]
  },
  {
   "cell_type": "code",
   "execution_count": null,
   "metadata": {
    "collapsed": false
   },
   "outputs": [],
   "source": [
    "plt.plot(durations)\n",
    "plt.xticks(range(32), trials, rotation='vertical')\n",
    "plt.ylabel('Duration (s)')\n",
    "plt.show()"
   ]
  },
  {
   "cell_type": "code",
   "execution_count": null,
   "metadata": {
    "collapsed": true
   },
   "outputs": [],
   "source": []
  },
  {
   "cell_type": "code",
   "execution_count": null,
   "metadata": {
    "collapsed": true
   },
   "outputs": [],
   "source": []
  }
 ],
 "metadata": {
  "kernelspec": {
   "display_name": "Python 3",
   "language": "python",
   "name": "python3"
  },
  "language_info": {
   "codemirror_mode": {
    "name": "ipython",
    "version": 3
   },
   "file_extension": ".py",
   "mimetype": "text/x-python",
   "name": "python",
   "nbconvert_exporter": "python",
   "pygments_lexer": "ipython3",
   "version": "3.5.2"
  }
 },
 "nbformat": 4,
 "nbformat_minor": 0
}
