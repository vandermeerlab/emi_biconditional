{
 "cells": [
  {
   "cell_type": "code",
   "execution_count": null,
   "metadata": {
    "ExecuteTime": {
     "end_time": "2017-04-13T12:34:12.139489",
     "start_time": "2017-04-13T12:34:12.132500"
    },
    "collapsed": true
   },
   "outputs": [],
   "source": [
    "%matplotlib inline\n",
    "import matplotlib.pyplot as plt\n",
    "import os\n",
    "import numpy as np\n",
    "import pandas as pd\n",
    "import seaborn as sns\n",
    "\n",
    "import nept\n",
    "from core import Rat, combine_rats\n",
    "from load_data import assign_label, load_biconditional_events_general, vdm_assign_label"
   ]
  },
  {
   "cell_type": "code",
   "execution_count": null,
   "metadata": {
    "ExecuteTime": {
     "end_time": "2017-04-13T12:34:12.552489",
     "start_time": "2017-04-13T12:34:12.549487"
    },
    "collapsed": true
   },
   "outputs": [],
   "source": [
    "data_filepath = 'E:/code/emi_biconditional/cache/data/spring2017'"
   ]
  },
  {
   "cell_type": "code",
   "execution_count": null,
   "metadata": {
    "ExecuteTime": {
     "end_time": "2017-04-13T12:34:13.097886",
     "start_time": "2017-04-13T12:34:13.092883"
    },
    "collapsed": true
   },
   "outputs": [],
   "source": [
    "rats = ['R141', 'R142', 'R143', 'R144', 'R145', 'R146', 'R147', 'R148']\n",
    "\n",
    "groups = [1, 2, 2, 1, 2, 1, 1, 2]\n",
    "\n",
    "males = ['R141', 'R143', 'R145', 'R147']\n",
    "females = ['R142', 'R144', 'R146', 'R148']\n",
    "group1 = ['R141', 'R144', 'R146', 'R147']\n",
    "group2 = ['R142', 'R143', 'R145', 'R148']"
   ]
  },
  {
   "cell_type": "code",
   "execution_count": null,
   "metadata": {
    "ExecuteTime": {
     "end_time": "2017-04-13T12:34:13.623211",
     "start_time": "2017-04-13T12:34:13.620209"
    },
    "collapsed": true
   },
   "outputs": [],
   "source": [
    "session_id = '2017-04-13'\n",
    "this_rat = 'R142'"
   ]
  },
  {
   "cell_type": "code",
   "execution_count": null,
   "metadata": {
    "ExecuteTime": {
     "end_time": "2017-04-13T12:34:14.111474",
     "start_time": "2017-04-13T12:34:14.108471"
    },
    "collapsed": false
   },
   "outputs": [],
   "source": [
    "filename = os.path.join(data_filepath, '!' + session_id)"
   ]
  },
  {
   "cell_type": "code",
   "execution_count": null,
   "metadata": {
    "ExecuteTime": {
     "end_time": "2017-04-13T12:34:17.446575",
     "start_time": "2017-04-13T12:34:17.267312"
    },
    "collapsed": false
   },
   "outputs": [],
   "source": [
    "data = dict()\n",
    "for rat in rats:\n",
    "    data[rat] = Rat(rat, group1, group2)\n",
    "\n",
    "rats_data = nept.load_medpc(filename, assign_label)"
   ]
  },
  {
   "cell_type": "code",
   "execution_count": null,
   "metadata": {
    "ExecuteTime": {
     "end_time": "2017-04-13T12:34:18.857684",
     "start_time": "2017-04-13T12:34:18.852663"
    },
    "collapsed": true
   },
   "outputs": [],
   "source": [
    "trial_order = []\n",
    "for trial in ['trial1', 'trial2', 'trial3', 'trial4']:\n",
    "    for start, stop in zip(rats_data[rat][trial].starts, rats_data[rat][trial].stops):\n",
    "        trial_order.append((trial, nept.Epoch(start, stop-start)))"
   ]
  },
  {
   "cell_type": "code",
   "execution_count": null,
   "metadata": {
    "ExecuteTime": {
     "end_time": "2017-04-13T12:34:19.567492",
     "start_time": "2017-04-13T12:34:19.563507"
    },
    "collapsed": false
   },
   "outputs": [],
   "source": [
    "ordered = sorted(trial_order, key=lambda x: x[1].start)"
   ]
  },
  {
   "cell_type": "code",
   "execution_count": null,
   "metadata": {
    "ExecuteTime": {
     "end_time": "2017-04-13T12:34:20.221542",
     "start_time": "2017-04-13T12:34:20.204529"
    },
    "collapsed": false
   },
   "outputs": [],
   "source": [
    "mags = rats_data[this_rat]['mags']\n",
    "sounds1 = rats_data[this_rat]['sounds1']\n",
    "sounds2 = rats_data[this_rat]['sounds2']\n",
    "\n",
    "durations = []\n",
    "for t in ordered:\n",
    "    trial = t[0]\n",
    "    trial_epoch = t[1]\n",
    "    \n",
    "    if trial in ['trial1', 'trial4']:\n",
    "        sound_epochs = trial_epoch.intersect(sounds2)\n",
    "        cue_mags = sound_epochs.intersect(mags)\n",
    "        durations.append(np.sum(cue_mags.durations))\n",
    "    if trial in ['trial2', 'trial3']:\n",
    "        sound_epochs = trial_epoch.intersect(sounds1)\n",
    "        cue_mags = sound_epochs.intersect(mags)\n",
    "        durations.append(np.sum(cue_mags.durations))"
   ]
  },
  {
   "cell_type": "code",
   "execution_count": null,
   "metadata": {
    "ExecuteTime": {
     "end_time": "2017-04-13T12:34:20.943683",
     "start_time": "2017-04-13T12:34:20.939698"
    },
    "collapsed": true
   },
   "outputs": [],
   "source": [
    "trials = []\n",
    "for y in ordered:\n",
    "    trials.append(y[0])"
   ]
  },
  {
   "cell_type": "code",
   "execution_count": null,
   "metadata": {
    "ExecuteTime": {
     "end_time": "2017-04-13T12:34:21.686556",
     "start_time": "2017-04-13T12:34:21.683574"
    },
    "collapsed": false
   },
   "outputs": [],
   "source": [
    "sns.set_style(\"whitegrid\")"
   ]
  },
  {
   "cell_type": "code",
   "execution_count": null,
   "metadata": {
    "ExecuteTime": {
     "end_time": "2017-04-13T12:34:22.755593",
     "start_time": "2017-04-13T12:34:22.508577"
    },
    "collapsed": false
   },
   "outputs": [],
   "source": [
    "plt.plot(durations)\n",
    "plt.xticks(range(32), trials, rotation='vertical')\n",
    "plt.ylabel('Duration (s)')\n",
    "plt.show()"
   ]
  },
  {
   "cell_type": "code",
   "execution_count": null,
   "metadata": {
    "collapsed": true
   },
   "outputs": [],
   "source": []
  },
  {
   "cell_type": "code",
   "execution_count": null,
   "metadata": {
    "collapsed": true
   },
   "outputs": [],
   "source": []
  }
 ],
 "metadata": {
  "anaconda-cloud": {},
  "kernelspec": {
   "display_name": "Python 3",
   "language": "python",
   "name": "python3"
  },
  "language_info": {
   "codemirror_mode": {
    "name": "ipython",
    "version": 3
   },
   "file_extension": ".py",
   "mimetype": "text/x-python",
   "name": "python",
   "nbconvert_exporter": "python",
   "pygments_lexer": "ipython3",
   "version": "3.5.2"
  },
  "toc": {
   "colors": {
    "hover_highlight": "#DAA520",
    "running_highlight": "#FF0000",
    "selected_highlight": "#FFD700"
   },
   "moveMenuLeft": true,
   "nav_menu": {
    "height": "12px",
    "width": "252px"
   },
   "navigate_menu": true,
   "number_sections": true,
   "sideBar": true,
   "threshold": 4,
   "toc_cell": false,
   "toc_section_display": "block",
   "toc_window_display": false
  }
 },
 "nbformat": 4,
 "nbformat_minor": 0
}
