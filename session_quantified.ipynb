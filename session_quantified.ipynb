{
 "cells": [
  {
   "cell_type": "code",
   "execution_count": null,
   "metadata": {
    "collapsed": false
   },
   "outputs": [],
   "source": [
    "import os\n",
    "\n",
    "from load_data import assign_label, load_biconditional_events_general, vdm_assign_label\n",
    "from core import Rat, combine_rats\n",
    "import vdmlab as vdm"
   ]
  },
  {
   "cell_type": "code",
   "execution_count": null,
   "metadata": {
    "collapsed": true
   },
   "outputs": [],
   "source": [
    "data_filepath = 'C:/Users/Emily/code/emi_biconditional/cache/data/winter2017'"
   ]
  },
  {
   "cell_type": "code",
   "execution_count": null,
   "metadata": {
    "collapsed": false
   },
   "outputs": [],
   "source": [
    "# Finds newest session id\n",
    "this_id = 0\n",
    "for file in sorted(os.listdir(data_filepath)):\n",
    "    if file[0] == '!':\n",
    "        session = file[1:5] + file[6:8] + file[9:]\n",
    "        if int(session) > this_id:\n",
    "            this_id = int(session)\n",
    "            session_id = file[1:]\n",
    "\n",
    "# If interested in a particular session, uncomment below.\n",
    "# Otherwise this evaluates only the newest session.\n",
    "# session_id = '2017-01-19'\n",
    "print('checking session:', session_id)"
   ]
  },
  {
   "cell_type": "markdown",
   "metadata": {},
   "source": [
    "## Rats in medpc boxes"
   ]
  },
  {
   "cell_type": "code",
   "execution_count": null,
   "metadata": {
    "collapsed": false
   },
   "outputs": [],
   "source": [
    "rats = ['R120', 'R121', 'R118', 'R119', 'R116', 'R117', 'R114']\n",
    "groups = [1, 2, 1, 2, 1, 2, 1]\n",
    "group1 = ['R120', 'R118', 'R116', 'R114']\n",
    "group2 = ['R121', 'R119', 'R117']\n",
    "\n",
    "data = dict()\n",
    "for rat in rats:\n",
    "    data[rat] = Rat(rat, group1, group2)\n",
    "    \n",
    "filename = os.path.join(data_filepath, '!' + session_id)\n",
    "rats_data = vdm.load_medpc(filename, assign_label)\n",
    "\n",
    "for rat, group in zip(rats, groups):\n",
    "    data[rat].add_session(**rats_data[rat], group=group)\n",
    "\n",
    "n_sessions = len(data[rats[0]].sessions)\n",
    "\n",
    "df = combine_rats(data, rats, n_sessions)"
   ]
  },
  {
   "cell_type": "code",
   "execution_count": null,
   "metadata": {
    "collapsed": false
   },
   "outputs": [],
   "source": [
    "duration_df = df[df['measure']=='durations']\n",
    "\n",
    "for rat in rats:\n",
    "    print(rat)\n",
    "    for outcome in ['rewarded', 'unrewarded']:\n",
    "        outcome_df = duration_df[duration_df['rewarded']=='sound ' + outcome]\n",
    "        rat_df = outcome_df[outcome_df['rat']==rat]\n",
    "        print(outcome, ':', rat_df['value'].mean())"
   ]
  },
  {
   "cell_type": "code",
   "execution_count": null,
   "metadata": {
    "collapsed": true
   },
   "outputs": [],
   "source": []
  },
  {
   "cell_type": "markdown",
   "metadata": {},
   "source": [
    "## Rat in recording box"
   ]
  },
  {
   "cell_type": "code",
   "execution_count": null,
   "metadata": {
    "collapsed": false
   },
   "outputs": [],
   "source": [
    "rat = 'R115'\n",
    "group2 = [rat]\n",
    "\n",
    "data = dict()\n",
    "data[rat] = Rat(rat, group2)\n",
    "\n",
    "rec_filename = os.path.join(data_filepath, 'R115-' + session_id + '-Events.nev')\n",
    "events = load_biconditional_events_general(rec_filename, photobeam='zero')\n",
    "# events = load_biconditional_events_general(rec_filename, photobeam='c')\n",
    "\n",
    "rats_data = vdm_assign_label(events)\n",
    "data[rat].add_session(**rats_data, group=2)\n",
    "\n",
    "n_sessions = len(data[rat].sessions)\n",
    "\n",
    "df = combine_rats(data, [rat], n_sessions)"
   ]
  },
  {
   "cell_type": "code",
   "execution_count": null,
   "metadata": {
    "collapsed": false
   },
   "outputs": [],
   "source": [
    "duration_df = df[df['measure']=='durations']\n",
    "\n",
    "print(rat)\n",
    "for outcome in ['rewarded', 'unrewarded']:\n",
    "    outcome_df = duration_df[duration_df['rewarded']=='sound ' + outcome]\n",
    "    rat_df = outcome_df[outcome_df['rat']==rat]\n",
    "    print(outcome, ':', rat_df['value'].mean())"
   ]
  },
  {
   "cell_type": "code",
   "execution_count": null,
   "metadata": {
    "collapsed": true
   },
   "outputs": [],
   "source": []
  }
 ],
 "metadata": {
  "anaconda-cloud": {},
  "kernelspec": {
   "display_name": "Python [conda env:py3]",
   "language": "python",
   "name": "conda-env-py3-py"
  },
  "language_info": {
   "codemirror_mode": {
    "name": "ipython",
    "version": 3
   },
   "file_extension": ".py",
   "mimetype": "text/x-python",
   "name": "python",
   "nbconvert_exporter": "python",
   "pygments_lexer": "ipython3",
   "version": "3.5.2"
  }
 },
 "nbformat": 4,
 "nbformat_minor": 1
}
